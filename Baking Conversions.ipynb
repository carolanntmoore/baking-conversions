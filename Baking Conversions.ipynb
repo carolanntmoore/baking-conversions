{
 "cells": [
  {
   "cell_type": "markdown",
   "metadata": {},
   "source": [
    "# Baking Conversions!"
   ]
  },
  {
   "cell_type": "code",
   "execution_count": 1,
   "metadata": {},
   "outputs": [],
   "source": [
    "# from kivy.app import App\n",
    "# from kivy.uix.button import Button\n",
    "\n",
    "# class TestApp(App):\n",
    "#     def build(self):\n",
    "#         return Button(text='Hello World')\n",
    "\n",
    "# TestApp().run()\n",
    "\n",
    "import pandas as pd"
   ]
  },
  {
   "cell_type": "code",
   "execution_count": 109,
   "metadata": {},
   "outputs": [],
   "source": [
    "class baking:\n",
    "    def __init__(self, grams_in_cup, ounce_in_cup, item):\n",
    "        '''This is going to be based off of the specific weight of an ingredient.\n",
    "        grams_in_cup = how many grams of the ingredient is in a cup\n",
    "        ounce_in_cup = how many ounces of the ingredient in in a cup'''\n",
    "        self.grams_in_cup = grams_in_cup\n",
    "        self.ounce_in_cup = ounce_in_cup\n",
    "        self.item = item\n",
    "    \n",
    "    def gram_to_cup(self, amount):\n",
    "        ''' Convert grams to cups\n",
    "        amount = how much of an item you have and wish to convert'''\n",
    "        cup = round(amount/self.grams_in_cup, ndigits=2)\n",
    "        if cup == 1:\n",
    "            return ('{} grams {} is {} cup').format(amount, self.item, cup)\n",
    "        else:\n",
    "            return ('{} grams {} is {} cups').format(amount, self.item, cup)\n",
    "        \n",
    "    def gram_to_ounce(self, amount):\n",
    "        ounce = round(amount/(self.grams_in_cup/self.ounce_in_cup), ndigits=2)\n",
    "        if ounce == 1:\n",
    "            return ('{} grams {} is {} ounce').format(amount, self.item, ounce)\n",
    "        else:\n",
    "            return ('{} grams {} is {} ounces').format(amount, self.item, ounce)\n",
    "\n",
    "    def tsp_to_tbsp(self, amount):\n",
    "        ''' 3 teaspoons are always 1 tablespoon no matter what you're measuring'''\n",
    "        tbsp = round(amount*3, ndigits=2)\n",
    "        if tbsp == 1:\n",
    "            return ('{} teaspoons {} is {} tablespoon').format(amount, self.item, ounce)\n",
    "        else:\n",
    "            return ('{} teaspoons {} is {} tablespoons').format(amount, self.item, ounce)\n",
    "\n",
    "    \n",
    "    def tbsp_to_tsp(self, amount):\n",
    "        ''' 3 teaspoons are always 1 tablespoon no matter what you're measuring'''\n",
    "        tbsp = round(amount/3, ndigits=2)\n",
    "        if amount == 1:\n",
    "            return ('{} tablespoon {} is {} teaspoons').format(amount, self.item, ounce)\n",
    "        else:\n",
    "            return ('{} tablespoons {} is {} teaspoons').format(amount, self.item, ounce)\n",
    "    \n",
    "    def cup_to_gram(self, amount):\n",
    "        gram = round(amount*self.grams_in_cup, ndigits=2)\n",
    "        if amount == 1:\n",
    "            return ('{} cup {} is {} grams').format(amount, self.item, gram)\n",
    "        else:\n",
    "            return ('{} cups {} is {} grams').format(amount, self.item, gram)\n",
    "        \n",
    "    def ounce_to_gram(self, amount):\n",
    "        ounce = round(amount/(self.grams_in_cup/self.ounce_in_cup), ndigits=2)\n",
    "        if ounce == 1:\n",
    "            return ('{} grams {} is {} ounce').format(amount, self.item, ounce)\n",
    "        else:\n",
    "            return ('{} grams {} is {} ounces').format(amount, self.item, ounce)\n",
    "    \n",
    "    def ounce_to_pound(self, amount):\n",
    "        pound = round(amount*16, ndigits=2)\n",
    "        if pound == 1:\n",
    "            return ('{} ounces {} is {} pound').format(amount, self.item, pound)\n",
    "        else: \n",
    "            return ('{} ounces {} is {} pounds').format(amount, self.item, pound)\n",
    "    \n",
    "    def pound_to_ounce(self, amount):\n",
    "        ounce = round(amount/16, ndigits=2)\n",
    "        if amount == 1:\n",
    "            return ('{} pound {} is {} ounces').format(amount, self.item, ounce)\n",
    "        else:\n",
    "            return ('{} pound {} is {} ounces').format(amount, self.item, ounce)\n",
    "        \n",
    "# class liquids(baking):\n",
    "#     '''Not doing this based on weight. This is strictly volume\n",
    "#     ie these measurements don't depend on amount of product'''\n",
    "\n",
    "    def cup_to_tsp(self, amount):\n",
    "        tsp = round(amount*48, ndigits=2)\n",
    "        if amount == 1:\n",
    "            return ('{} cup {} is {} teaspoons').format(amount, self.item, tsp)\n",
    "        else:\n",
    "            return ('{} tablespoons {} is {} teaspoons').format(amount, self.item, tsp)\n",
    "        \n",
    "    def cup_to_tbsp(self, amount):\n",
    "        tsp = round(amount/3, ndigits=2)\n",
    "        if amount == 1:\n",
    "            return ('{} tablespoon {} is {} teaspoons').format(amount, self.item, tsp)\n",
    "        else:\n",
    "            return ('{} tablespoons {} is {} teaspoons').format(amount, self.item, tsp)\n",
    "\n",
    "    def tbsp_to_cup(self, amount):\n",
    "        ''' 16 tbsps in one cup'''\n",
    "        cup = round(amount/16, ndigits=2)\n",
    "        if cup == 1:\n",
    "            return ('{} tablespoons {} is {} cup').format(amount, self.item, cup)\n",
    "        else:\n",
    "            return ('{} tablespoons {} is {} cups').format(amount, self.item, cup)\n",
    "\n",
    "    def tsp_to_cup(self, amount):\n",
    "        cup = round(amount/48, ndigits=2)\n",
    "        if cup == 1:\n",
    "            return ('{} teaspoons {} is {} cup').format(amount, self.item, cup)\n",
    "        else:\n",
    "            return ('{} teaspoons {} is {} cups').format(amount, self.item, cup)\n",
    "\n",
    "    def cup_to_ounce(self, amount):\n",
    "        ounce = round(amount*16, ndigits=2)\n",
    "        if amount == 1:\n",
    "            return ('{} cup {} is {} ounces').format(amount, self.item, ounce)\n",
    "        else:\n",
    "            return ('{} cups {} is {} ounces').format(amount, self.item, ounce)\n",
    "    \n",
    "    def cup_to_ml(self, amount):\n",
    "        ml = round(amount/258.59, ndigits=2)\n",
    "        if amount == 1:\n",
    "            return ('{} cup {} is {} milliliters').format(amount, self.item, ml)\n",
    "        else:\n",
    "            return ('{} cups {} is {} milliliters').format(amount, self.item, ml)\n",
    "    \n",
    "    def ml_to_cup(self, amount):\n",
    "        cup = round(amount*258.59, ndigits=2)\n",
    "        if cup == 1:\n",
    "            return ('{} milliliters {} is {} cup').format(amount, self.item, cup)\n",
    "        else:\n",
    "            return ('{} milliliters {} is {} cups').format(amount, self.item, cup)\n",
    "        \n",
    "    def ounce_to_cup(self, amount):\n",
    "        cup = round(amount/16, ndigits=2)\n",
    "        if cup == 1:\n",
    "            return ('{} teaspoons {} is {} cup').format(amount, self.item, cup)\n",
    "        else:\n",
    "            return ('{} teaspoons {} is {} cup').format(amount, self.item, cup)\n",
    "\n",
    "    def ml_to_tbsp(self, amount):\n",
    "        tbsp = round(amount*14.78, ndigits=2)\n",
    "        if tbsp == 1:\n",
    "            return ('{} milliliters {} is {} tablespoon').format(amount, self.item, tbsp)\n",
    "        else:\n",
    "            return ('{} milliliters {} is {} tablespoons').format(amount, self.item, tbsp)\n",
    "        \n",
    "    def tbsp_to_ml(self, amount):\n",
    "        ml = round(amount/14.78, ndigits=2)\n",
    "        if amount == 1:\n",
    "            return ('{} tablespoon {} is {} milliliters').format(amount, self.item, ml)\n",
    "        else:\n",
    "            return ('{} tablespoons {} is {} milliliters').format(amount, self.item, ml)\n",
    "        \n",
    "    def ounce_to_gram(self, amount):\n",
    "        gram = round(amount/28.35, ndigits=2)\n",
    "        if amount == 1:\n",
    "            return ('{} ounce {} is {} grams').format(amount, self.item, gram)\n",
    "        else:\n",
    "            return ('{} ounces {} is {} grams').format(amount, self.item, gram)\n",
    "        \n",
    "    def floz_to_ml(self, amount):\n",
    "        ml = round(amount/29.6, ndigits=2)\n",
    "        if amount == 1:\n",
    "            return ('{} fluid ounce {} is {} milliliters').format(amount, self.item, ml)\n",
    "        else:\n",
    "            return ('{} fluid ounces {} is {} milliliters').format(amount, self.item, ml)\n",
    "\n",
    "    def ml_to_floz(self, amount):\n",
    "        floz = round(amount*29.6, ndigits=2)\n",
    "        if floz == 1:\n",
    "            return ('{} milliliters {} is {} fluid ounce').format(amount, self.item, floz)\n",
    "        else:\n",
    "            return ('{} milliliters {} is {} fluid ounces').format(amount, self.item, floz)\n",
    "        \n",
    "    def ml_to_tsp(self, amount):\n",
    "        tsp = round((self.amount*14.78)*3, ndigits=2)\n",
    "        if tsp == 1:\n",
    "            return ('{} milliliters {} is {} tablespoon').format(amount, self.item, tsp)\n",
    "        else:\n",
    "            return ('{} milliliters {} is {} tablespoons').format(amount, self.item, tsp)\n",
    "    def ml_to_L(self, amount):\n",
    "        pass"
   ]
  },
  {
   "cell_type": "code",
   "execution_count": null,
   "metadata": {},
   "outputs": [],
   "source": []
  },
  {
   "cell_type": "code",
   "execution_count": 3,
   "metadata": {},
   "outputs": [
    {
     "data": {
      "text/plain": [
       "'452 grams flour is 16.01 ounces'"
      ]
     },
     "execution_count": 3,
     "metadata": {},
     "output_type": "execute_result"
    }
   ],
   "source": [
    "fl = baking(120, 4.25, 'flour')\n",
    "fl.gram_to_ounce(452)"
   ]
  },
  {
   "cell_type": "code",
   "execution_count": 4,
   "metadata": {},
   "outputs": [],
   "source": [
    "# import kivy\n",
    "# from kivy.app import App\n",
    "# from kivy.uix.label import Label\n",
    "# from kivy.uix.gridlayout import GridLayout\n",
    "# from kivy.uix.textinput import TextInput\n",
    "# from kivy.uix.image import Image\n"
   ]
  },
  {
   "cell_type": "code",
   "execution_count": 5,
   "metadata": {},
   "outputs": [],
   "source": [
    "# help(App)"
   ]
  },
  {
   "cell_type": "code",
   "execution_count": 6,
   "metadata": {},
   "outputs": [],
   "source": [
    "# class MainApp(App):\n",
    "#     def build(self):\n",
    "#         img = Image(source='/path/to/real_python.png',\n",
    "#                     size_hint=(1, .5),\n",
    "#                     pos_hint={'center_x':.5, 'center_y':.5})\n",
    "\n",
    "#         return img\n",
    "\n",
    "# if __name__ == '__main__':\n",
    "#     app = MainApp()\n",
    "#     app.run()"
   ]
  },
  {
   "cell_type": "code",
   "execution_count": 7,
   "metadata": {},
   "outputs": [],
   "source": [
    "# class LoginScreen(GridLayout):\n",
    "\n",
    "#     def __init__(self, **kwargs):\n",
    "#         super(LoginScreen, self).__init__(**kwargs)\n",
    "#         self.cols = 2\n",
    "#         self.add_widget(Label(text='User Name'))\n",
    "#         self.username = TextInput(multiline=False)\n",
    "#         self.add_widget(self.username)\n",
    "#         self.add_widget(Label(text='password'))\n",
    "#         self.password = TextInput(password=True, multiline=False)\n",
    "#         self.add_widget(self.password)\n",
    "\n",
    "\n",
    "# class MyApp(App):\n",
    "\n",
    "#     def build(self):\n",
    "#         return LoginScreen()\n",
    "\n",
    "\n",
    "# if __name__ == '__main__':\n",
    "#     MyApp().run()"
   ]
  },
  {
   "cell_type": "code",
   "execution_count": null,
   "metadata": {},
   "outputs": [],
   "source": []
  },
  {
   "cell_type": "markdown",
   "metadata": {},
   "source": [
    "## Web Scraping"
   ]
  },
  {
   "cell_type": "markdown",
   "metadata": {},
   "source": [
    "### Get the ingredients"
   ]
  },
  {
   "cell_type": "code",
   "execution_count": 8,
   "metadata": {},
   "outputs": [],
   "source": [
    "from bs4 import BeautifulSoup\n",
    "import requests\n",
    "import re\n",
    "import pandas as pd"
   ]
  },
  {
   "cell_type": "code",
   "execution_count": 9,
   "metadata": {},
   "outputs": [],
   "source": [
    "conversions = requests.get('https://www.kingarthurflour.com/learn/ingredient-weight-chart')\n",
    "soup = BeautifulSoup(conversions.content, 'html.parser')"
   ]
  },
  {
   "cell_type": "code",
   "execution_count": 10,
   "metadata": {},
   "outputs": [],
   "source": [
    "table = soup.find('tbody')"
   ]
  },
  {
   "cell_type": "code",
   "execution_count": null,
   "metadata": {},
   "outputs": [],
   "source": []
  },
  {
   "cell_type": "code",
   "execution_count": 11,
   "metadata": {},
   "outputs": [],
   "source": [
    "ingredient = table.find_all('th')"
   ]
  },
  {
   "cell_type": "code",
   "execution_count": 12,
   "metadata": {},
   "outputs": [],
   "source": [
    "# ingredients = []\n",
    "# for div in soup.find_all('div', class_='brick--text__inner'):\n",
    "#     for t in div.find_all('th').text:\n",
    "#         ingredients.append(t)"
   ]
  },
  {
   "cell_type": "code",
   "execution_count": 13,
   "metadata": {
    "scrolled": true
   },
   "outputs": [],
   "source": [
    "# ingredient"
   ]
  },
  {
   "cell_type": "code",
   "execution_count": 14,
   "metadata": {},
   "outputs": [],
   "source": [
    "def cleanhtml(raw_html):\n",
    "    cleanr = re.compile('<.*?>')\n",
    "    clean = re.sub(cleanr, ' ', str(raw_html))\n",
    "    cleaner = clean.strip()\n",
    "    cleantext = re.sub('\\n', ' ', cleaner)\n",
    "    return cleantext"
   ]
  },
  {
   "cell_type": "code",
   "execution_count": 15,
   "metadata": {},
   "outputs": [],
   "source": [
    "ingredient = cleanhtml(ingredient)"
   ]
  },
  {
   "cell_type": "code",
   "execution_count": 16,
   "metadata": {},
   "outputs": [],
   "source": [
    "def clean(raw):\n",
    "    raw = str(raw)\n",
    "    for char in '-.,\\n':\n",
    "        raw = raw.replace(char,' ')\n",
    "    return raw"
   ]
  },
  {
   "cell_type": "code",
   "execution_count": 17,
   "metadata": {},
   "outputs": [],
   "source": [
    "ingredient = re.sub(r'\\([^)]*\\)', '', ingredient)"
   ]
  },
  {
   "cell_type": "code",
   "execution_count": 18,
   "metadata": {},
   "outputs": [],
   "source": [
    "ingredient = clean(ingredient)\n",
    "\n",
    "# for x in ingredient:\n",
    "#     if x == ',':\n",
    "#         ingredient.remove(x)"
   ]
  },
  {
   "cell_type": "code",
   "execution_count": 19,
   "metadata": {},
   "outputs": [
    {
     "data": {
      "text/plain": [
       "\"[  All Purpose Flour      Almond Flour     Almond meal     Almond paste      Almonds     Almonds     Almonds  whole     Amaranth flour    Apples     Apples     Applesauce    Apricots      Artisan Bread Flour      Baker's Cinnamon Filling      Baker's Fruit Blend      Baker's Special Sugar      Baking powder    Baking soda    Bananas     Barley     Barley      Barley flakes      Barley flour     Basil pesto    Bell peppers     Berries     Blueberries     Blueberries      Blueberry juice      Boiled cider     Bran cereal    Bread crumbs     Bread crumbs     Bread crumbs      Bread Flour     Brown rice     Brown rice flour    Brown sugar     Buckwheat      Buckwheat Flour     Bulgur    Butter    Buttermilk     Cake Enhancer     Candied peel     Caramel      Caramel bits     Caraway seeds    Carrots     Carrots     Carrots     Cashews     Cashews     Celery     Cheese     Cheese     Cheese     Cheese     Cherries     Cherries     Cherries     Chickpea flour    Chives      Chocolate       Chocolate chips      Cinnamon Sweet Bits      Cinnamon sugar      Cocoa      Coconut     Coconut      Coconut       Coconut Flour      Coconut Milk Powder     Coconut oil    Confectioners' sugar     Cookie crumbs    Corn     Corn syrup     Cornmeal      Cornmeal     Cornstarch    Cracked wheat    Cranberries     Cranberries     Cream     Cream cheese     Crystallized ginger     Currants    Dates     Demerara sugar     Dried Blueberry Powder      Dried Buttermilk Powder      Dried milk      Dried nonfat milk     Dried potato flakes      Dried whole milk       Durum Flour      Easy Roll Dough Improver     Egg     Egg white     Egg whites     Egg yolk      Espresso Powder     Figs      First Clear Flour     Flax meal    Flaxseed     French Style Flour      Fruitcake Fruit Blend     Garlic     Garlic     Garlic     Ginger      Gluten Free All Purpose Baking Mix      Gluten Free All Purpose Flour      Gluten Free Measure for Measure Flour     Graham cracker crumbs     Graham crackers     Granola    Grape Nuts     Harvest Grains Blend     Hazelnut flour     Hazelnut Praline Paste     Hazelnut spread    Hazelnuts      Hi Maize Natural Fiber      High Gluten Flour     Honey     Instant ClearJel      Irish Style Flour      Italian Style Flour     Jam or preserves     Jammy Bits      Key Lime Juice     Lard    Leeks      Lemon Juice Powder      Lime Juice Powder     Macadamia nuts     Malt syrup     Malted Milk Powder      Malted Wheat Flakes      Maple sugar      Maple syrup     Marshmallow crème    Marshmallow Fluff®    Marshmallows      Marzipan     Mashed potatoes    Mayonnaise     Meringue powder     Milk     Milk     Millet      Mini chocolate chips     Molasses    Mushrooms      Non Diastatic Malt Powder     Oat bran    Oat flour     Old fashioned oats      Olive oil    Olives     Onions      Paleo Baking Flour      Pasta Flour Blend      Pastry Flour      Pastry Flour Blend     Peaches     Peanut butter    Peanuts     Pears      Pecan Meal     Pecans      Pie Filling Enhancer     Pine nuts    Pineapple     Pineapple     Pistachio nuts     Pistachio Paste      Pizza Flour Blend     Polenta     Poppy seeds     Potato Flour     Potato starch     Pumpernickel Flour     Pumpkin     Quick cooking oats    Quinoa     Quinoa     Quinoa flour    Raisins     Raisins     Raspberries     Rhubarb     Rice     Rice flour     Rice Krispies     Rye Chops     Rye flakes     Rye Flour      Rye Flour Blend     Salt     Salt     Salt     Scallions      Self Rising Flour      Semolina Flour     Sesame seeds    Shallots      Six Grain Blend     Sorghum flour    Sour cream     Sourdough starter     Soy flour     Spelt Flour      Sprouted Wheat Flour     Steel cut oats      Steel cut oats       Sticky Bun Sugar     Strawberries     Sugar     Sugar substitute     Sundried tomatoes     Sunflower seeds     Super 10 Blend     Sweetened condensed milk    Tahini paste    Tapicoa starch or flour    Tapioca     Teff flour     Toasted Almond Flour     Toffee chunks     Tropical Fruit Blend     Turbinado sugar      Unbleached Cake Flour      Vanilla extract      Vegetable oil    Vegetable shortening     Vermont Cheese Powder      Vital Wheat Gluten     Walnuts     Walnuts     Water    Wheat berries     Wheat bran    Wheat germ     White Chocolate Chips      White Rye Flour      White Whole Wheat Flour      Whole Grain Flour Blend      Whole Wheat Flour       Whole Wheat Pastry Flour / Graham Flour      Yeast      Yogurt    Zucchini  ]\""
      ]
     },
     "execution_count": 19,
     "metadata": {},
     "output_type": "execute_result"
    }
   ],
   "source": [
    "ingredient"
   ]
  },
  {
   "cell_type": "code",
   "execution_count": 20,
   "metadata": {},
   "outputs": [],
   "source": [
    "ingredient = re.sub(\"\\s\\s+\" , \"  \", ingredient)"
   ]
  },
  {
   "cell_type": "code",
   "execution_count": 21,
   "metadata": {},
   "outputs": [],
   "source": [
    "for x in ingredient:\n",
    "    if x == ',':\n",
    "        ingredient.remove(x)"
   ]
  },
  {
   "cell_type": "code",
   "execution_count": 22,
   "metadata": {},
   "outputs": [],
   "source": [
    "ingredient = ingredient.split('  ')"
   ]
  },
  {
   "cell_type": "code",
   "execution_count": 23,
   "metadata": {},
   "outputs": [],
   "source": [
    "del ingredient[0]"
   ]
  },
  {
   "cell_type": "code",
   "execution_count": 24,
   "metadata": {},
   "outputs": [],
   "source": [
    "del ingredient[-1]"
   ]
  },
  {
   "cell_type": "code",
   "execution_count": 25,
   "metadata": {},
   "outputs": [
    {
     "data": {
      "text/plain": [
       "['All Purpose Flour',\n",
       " 'Almond Flour',\n",
       " 'Almond meal',\n",
       " 'Almond paste',\n",
       " 'Almonds',\n",
       " 'Almonds',\n",
       " 'Almonds',\n",
       " 'whole',\n",
       " 'Amaranth flour',\n",
       " 'Apples',\n",
       " 'Apples',\n",
       " 'Applesauce',\n",
       " 'Apricots',\n",
       " 'Artisan Bread Flour',\n",
       " \"Baker's Cinnamon Filling\",\n",
       " \"Baker's Fruit Blend\",\n",
       " \"Baker's Special Sugar\",\n",
       " 'Baking powder',\n",
       " 'Baking soda',\n",
       " 'Bananas',\n",
       " 'Barley',\n",
       " 'Barley',\n",
       " 'Barley flakes',\n",
       " 'Barley flour',\n",
       " 'Basil pesto',\n",
       " 'Bell peppers',\n",
       " 'Berries',\n",
       " 'Blueberries',\n",
       " 'Blueberries',\n",
       " 'Blueberry juice',\n",
       " 'Boiled cider',\n",
       " 'Bran cereal',\n",
       " 'Bread crumbs',\n",
       " 'Bread crumbs',\n",
       " 'Bread crumbs',\n",
       " 'Bread Flour',\n",
       " 'Brown rice',\n",
       " 'Brown rice flour',\n",
       " 'Brown sugar',\n",
       " 'Buckwheat',\n",
       " 'Buckwheat Flour',\n",
       " 'Bulgur',\n",
       " 'Butter',\n",
       " 'Buttermilk',\n",
       " 'Cake Enhancer',\n",
       " 'Candied peel',\n",
       " 'Caramel',\n",
       " 'Caramel bits',\n",
       " 'Caraway seeds',\n",
       " 'Carrots',\n",
       " 'Carrots',\n",
       " 'Carrots',\n",
       " 'Cashews',\n",
       " 'Cashews',\n",
       " 'Celery',\n",
       " 'Cheese',\n",
       " 'Cheese',\n",
       " 'Cheese',\n",
       " 'Cheese',\n",
       " 'Cherries',\n",
       " 'Cherries',\n",
       " 'Cherries',\n",
       " 'Chickpea flour',\n",
       " 'Chives',\n",
       " 'Chocolate',\n",
       " 'Chocolate chips',\n",
       " 'Cinnamon Sweet Bits',\n",
       " 'Cinnamon sugar',\n",
       " 'Cocoa',\n",
       " 'Coconut',\n",
       " 'Coconut',\n",
       " 'Coconut',\n",
       " 'Coconut Flour',\n",
       " 'Coconut Milk Powder',\n",
       " 'Coconut oil',\n",
       " \"Confectioners' sugar\",\n",
       " 'Cookie crumbs',\n",
       " 'Corn',\n",
       " 'Corn syrup',\n",
       " 'Cornmeal',\n",
       " 'Cornmeal',\n",
       " 'Cornstarch',\n",
       " 'Cracked wheat',\n",
       " 'Cranberries',\n",
       " 'Cranberries',\n",
       " 'Cream',\n",
       " 'Cream cheese',\n",
       " 'Crystallized ginger',\n",
       " 'Currants',\n",
       " 'Dates',\n",
       " 'Demerara sugar',\n",
       " 'Dried Blueberry Powder',\n",
       " 'Dried Buttermilk Powder',\n",
       " 'Dried milk',\n",
       " 'Dried nonfat milk',\n",
       " 'Dried potato flakes',\n",
       " 'Dried whole milk',\n",
       " 'Durum Flour',\n",
       " 'Easy Roll Dough Improver',\n",
       " 'Egg',\n",
       " 'Egg white',\n",
       " 'Egg whites',\n",
       " 'Egg yolk',\n",
       " 'Espresso Powder',\n",
       " 'Figs',\n",
       " 'First Clear Flour',\n",
       " 'Flax meal',\n",
       " 'Flaxseed',\n",
       " 'French Style Flour',\n",
       " 'Fruitcake Fruit Blend',\n",
       " 'Garlic',\n",
       " 'Garlic',\n",
       " 'Garlic',\n",
       " 'Ginger',\n",
       " 'Gluten Free All Purpose Baking Mix',\n",
       " 'Gluten Free All Purpose Flour',\n",
       " 'Gluten Free Measure for Measure Flour',\n",
       " 'Graham cracker crumbs',\n",
       " 'Graham crackers',\n",
       " 'Granola',\n",
       " 'Grape Nuts',\n",
       " 'Harvest Grains Blend',\n",
       " 'Hazelnut flour',\n",
       " 'Hazelnut Praline Paste',\n",
       " 'Hazelnut spread',\n",
       " 'Hazelnuts',\n",
       " 'Hi Maize Natural Fiber',\n",
       " 'High Gluten Flour',\n",
       " 'Honey',\n",
       " 'Instant ClearJel',\n",
       " 'Irish Style Flour',\n",
       " 'Italian Style Flour',\n",
       " 'Jam or preserves',\n",
       " 'Jammy Bits',\n",
       " 'Key Lime Juice',\n",
       " 'Lard',\n",
       " 'Leeks',\n",
       " 'Lemon Juice Powder',\n",
       " 'Lime Juice Powder',\n",
       " 'Macadamia nuts',\n",
       " 'Malt syrup',\n",
       " 'Malted Milk Powder',\n",
       " 'Malted Wheat Flakes',\n",
       " 'Maple sugar',\n",
       " 'Maple syrup',\n",
       " 'Marshmallow crème',\n",
       " 'Marshmallow Fluff®',\n",
       " 'Marshmallows',\n",
       " 'Marzipan',\n",
       " 'Mashed potatoes',\n",
       " 'Mayonnaise',\n",
       " 'Meringue powder',\n",
       " 'Milk',\n",
       " 'Milk',\n",
       " 'Millet',\n",
       " 'Mini chocolate chips',\n",
       " 'Molasses',\n",
       " 'Mushrooms',\n",
       " 'Non Diastatic Malt Powder',\n",
       " 'Oat bran',\n",
       " 'Oat flour',\n",
       " 'Old fashioned oats',\n",
       " 'Olive oil',\n",
       " 'Olives',\n",
       " 'Onions',\n",
       " 'Paleo Baking Flour',\n",
       " 'Pasta Flour Blend',\n",
       " 'Pastry Flour',\n",
       " 'Pastry Flour Blend',\n",
       " 'Peaches',\n",
       " 'Peanut butter',\n",
       " 'Peanuts',\n",
       " 'Pears',\n",
       " 'Pecan Meal',\n",
       " 'Pecans',\n",
       " 'Pie Filling Enhancer',\n",
       " 'Pine nuts',\n",
       " 'Pineapple',\n",
       " 'Pineapple',\n",
       " 'Pistachio nuts',\n",
       " 'Pistachio Paste',\n",
       " 'Pizza Flour Blend',\n",
       " 'Polenta',\n",
       " 'Poppy seeds',\n",
       " 'Potato Flour',\n",
       " 'Potato starch',\n",
       " 'Pumpernickel Flour',\n",
       " 'Pumpkin',\n",
       " 'Quick cooking oats',\n",
       " 'Quinoa',\n",
       " 'Quinoa',\n",
       " 'Quinoa flour',\n",
       " 'Raisins',\n",
       " 'Raisins',\n",
       " 'Raspberries',\n",
       " 'Rhubarb',\n",
       " 'Rice',\n",
       " 'Rice flour',\n",
       " 'Rice Krispies',\n",
       " 'Rye Chops',\n",
       " 'Rye flakes',\n",
       " 'Rye Flour',\n",
       " 'Rye Flour Blend',\n",
       " 'Salt',\n",
       " 'Salt',\n",
       " 'Salt',\n",
       " 'Scallions',\n",
       " 'Self Rising Flour',\n",
       " 'Semolina Flour',\n",
       " 'Sesame seeds',\n",
       " 'Shallots',\n",
       " 'Six Grain Blend',\n",
       " 'Sorghum flour',\n",
       " 'Sour cream',\n",
       " 'Sourdough starter',\n",
       " 'Soy flour',\n",
       " 'Spelt Flour',\n",
       " 'Sprouted Wheat Flour',\n",
       " 'Steel cut oats',\n",
       " 'Steel cut oats',\n",
       " 'Sticky Bun Sugar',\n",
       " 'Strawberries',\n",
       " 'Sugar',\n",
       " 'Sugar substitute',\n",
       " 'Sundried tomatoes',\n",
       " 'Sunflower seeds',\n",
       " 'Super 10 Blend',\n",
       " 'Sweetened condensed milk',\n",
       " 'Tahini paste',\n",
       " 'Tapicoa starch or flour',\n",
       " 'Tapioca',\n",
       " 'Teff flour',\n",
       " 'Toasted Almond Flour',\n",
       " 'Toffee chunks',\n",
       " 'Tropical Fruit Blend',\n",
       " 'Turbinado sugar',\n",
       " 'Unbleached Cake Flour',\n",
       " 'Vanilla extract',\n",
       " 'Vegetable oil',\n",
       " 'Vegetable shortening',\n",
       " 'Vermont Cheese Powder',\n",
       " 'Vital Wheat Gluten',\n",
       " 'Walnuts',\n",
       " 'Walnuts',\n",
       " 'Water',\n",
       " 'Wheat berries',\n",
       " 'Wheat bran',\n",
       " 'Wheat germ',\n",
       " 'White Chocolate Chips',\n",
       " 'White Rye Flour',\n",
       " 'White Whole Wheat Flour',\n",
       " 'Whole Grain Flour Blend',\n",
       " 'Whole Wheat Flour',\n",
       " 'Whole Wheat Pastry Flour / Graham Flour',\n",
       " 'Yeast',\n",
       " 'Yogurt',\n",
       " 'Zucchini']"
      ]
     },
     "execution_count": 25,
     "metadata": {},
     "output_type": "execute_result"
    }
   ],
   "source": [
    "#Check and see if it worked\n",
    "ingredient"
   ]
  },
  {
   "cell_type": "code",
   "execution_count": 26,
   "metadata": {},
   "outputs": [
    {
     "data": {
      "text/plain": [
       "257"
      ]
     },
     "execution_count": 26,
     "metadata": {},
     "output_type": "execute_result"
    }
   ],
   "source": [
    "len(ingredient)"
   ]
  },
  {
   "cell_type": "markdown",
   "metadata": {},
   "source": [
    "### Get the measurements"
   ]
  },
  {
   "cell_type": "markdown",
   "metadata": {},
   "source": [
    "#### Volume"
   ]
  },
  {
   "cell_type": "code",
   "execution_count": 27,
   "metadata": {},
   "outputs": [],
   "source": [
    "measurements = table.find_all('td')"
   ]
  },
  {
   "cell_type": "code",
   "execution_count": 28,
   "metadata": {},
   "outputs": [],
   "source": [
    "volume = measurements[::3]"
   ]
  },
  {
   "cell_type": "code",
   "execution_count": 29,
   "metadata": {},
   "outputs": [],
   "source": [
    "volume = cleanhtml(volume)"
   ]
  },
  {
   "cell_type": "code",
   "execution_count": 30,
   "metadata": {},
   "outputs": [],
   "source": [
    "volume = re.sub(r'\\([^)]*\\)', '', volume)"
   ]
  },
  {
   "cell_type": "code",
   "execution_count": 31,
   "metadata": {},
   "outputs": [],
   "source": [
    "volume = clean(volume)"
   ]
  },
  {
   "cell_type": "code",
   "execution_count": 32,
   "metadata": {},
   "outputs": [],
   "source": [
    "volume = volume.replace('1/2', '.5')"
   ]
  },
  {
   "cell_type": "code",
   "execution_count": 33,
   "metadata": {},
   "outputs": [],
   "source": [
    "volume = volume.replace('1/4', '.25')"
   ]
  },
  {
   "cell_type": "code",
   "execution_count": 34,
   "metadata": {},
   "outputs": [],
   "source": [
    "# volume = volume.split('    ')"
   ]
  },
  {
   "cell_type": "code",
   "execution_count": 35,
   "metadata": {},
   "outputs": [],
   "source": [
    "volume = volume.split('    ')"
   ]
  },
  {
   "cell_type": "code",
   "execution_count": 36,
   "metadata": {},
   "outputs": [
    {
     "data": {
      "text/plain": [
       "['[ 1 cup',\n",
       " '1 cup',\n",
       " '1 cup',\n",
       " '1 cup',\n",
       " '.5 cup',\n",
       " '.5 cup',\n",
       " '1 cup',\n",
       " '1 cup',\n",
       " '1 cup',\n",
       " '1 cup',\n",
       " '1 cup',\n",
       " '.5 cup',\n",
       " '1 cup',\n",
       " '1 cup',\n",
       " '1 cup',\n",
       " '1 cup',\n",
       " '1 tea\\xadspoon',\n",
       " '.5 tea\\xadspoon',\n",
       " '1 cup',\n",
       " '1 cup',\n",
       " '1 cup',\n",
       " '.5 cup',\n",
       " '1 cup',\n",
       " '2 table\\xadspoons',\n",
       " '1 cup',\n",
       " '1 cup',\n",
       " '1 cup',\n",
       " '1 cup',\n",
       " '1 cup',\n",
       " '.25 cup',\n",
       " '1 cup',\n",
       " '.25 cup',\n",
       " '.25 cup',\n",
       " '.25 cup',\n",
       " '1 cup',\n",
       " '1 cup',\n",
       " '1 cup',\n",
       " '1 cup',\n",
       " '1 cup',\n",
       " '1 cup',\n",
       " '1 cup',\n",
       " '8 table\\xadspoons',\n",
       " ' 1 cup',\n",
       " '2 table\\xadspoons',\n",
       " '.5 cup',\n",
       " '.5 cup',\n",
       " '1 cup',\n",
       " '2 table\\xadspoons',\n",
       " '.5 cup',\n",
       " '1 cup',\n",
       " '1 cup',\n",
       " '1 cup',\n",
       " '1 cup',\n",
       " '1 cup',\n",
       " '.5 cup',\n",
       " '1 cup',\n",
       " '.5 cup',\n",
       " '1 cup',\n",
       " '.25 cup',\n",
       " '.5 cup',\n",
       " '1 cup',\n",
       " '1 cup',\n",
       " '.5 cup',\n",
       " '1 cup',\n",
       " '1 cup',\n",
       " '1 cup',\n",
       " '.25 cup',\n",
       " '.5 cup',\n",
       " '1 cup',\n",
       " '1 cup',\n",
       " '1 cup',\n",
       " '1 cup',\n",
       " '.5 cup',\n",
       " '.5 cup',\n",
       " '2 cups',\n",
       " '1 cup',\n",
       " '4 cups',\n",
       " '1 cup',\n",
       " '1 cup',\n",
       " '1 cup',\n",
       " '.25 cup',\n",
       " '1 cup',\n",
       " '.5 cup',\n",
       " '1 cup',\n",
       " '1 cup',\n",
       " '1 cup',\n",
       " '.5 cup',\n",
       " '1 cup',\n",
       " '1 cup',\n",
       " '1 cup',\n",
       " '.25 cup',\n",
       " '2 table\\xadspoons',\n",
       " '.25 cup',\n",
       " '.25 cup',\n",
       " '.5 cup',\n",
       " '.5 cup',\n",
       " '1 cup',\n",
       " '2 table\\xadspoons',\n",
       " '1 large',\n",
       " '1 large',\n",
       " '2 table\\xadspoons',\n",
       " '1 large',\n",
       " '1 table\\xadspoon',\n",
       " '1 cup',\n",
       " '1 cup',\n",
       " '.5 cup',\n",
       " '.25 cup',\n",
       " '1 cup',\n",
       " '1 cup',\n",
       " '1 large head',\n",
       " '2 table\\xadspoons',\n",
       " '1 cup',\n",
       " '.25 cup',\n",
       " '1 cup',\n",
       " '1 cup',\n",
       " '1 cup',\n",
       " '1 cup',\n",
       " '1 cup',\n",
       " '1 cup',\n",
       " '.5 cup',\n",
       " '.5 cup',\n",
       " '1 cup',\n",
       " '.5 cup',\n",
       " '.5 cup',\n",
       " '1 cup',\n",
       " '.25 cup',\n",
       " '1 cup',\n",
       " '1 table\\xadspoon',\n",
       " '1 table\\xadspoon',\n",
       " '1 cup',\n",
       " '1 cup',\n",
       " '.25 cup',\n",
       " '1 cup',\n",
       " '1 cup',\n",
       " '.5 cup',\n",
       " '1 cup',\n",
       " '2 table\\xadspoons',\n",
       " '2 table\\xadspoons',\n",
       " '1 cup',\n",
       " '2 table\\xadspoons',\n",
       " '.25 cup',\n",
       " '.5 cup',\n",
       " '.5 cup',\n",
       " '.5 cup',\n",
       " '1 cup',\n",
       " '1 cup',\n",
       " '1 cup',\n",
       " '1 cup',\n",
       " '1 cup',\n",
       " '.5 cup',\n",
       " '.25 cup',\n",
       " '.5 cup',\n",
       " '1 cup',\n",
       " '.5 cup',\n",
       " '1 cup',\n",
       " '.25 cup',\n",
       " '1 cup',\n",
       " '2 table\\xadspoons',\n",
       " '.5 cup',\n",
       " '1 cup',\n",
       " '1 cup',\n",
       " '.25 cup',\n",
       " '1 cup',\n",
       " '1 cup',\n",
       " '1 cup',\n",
       " '1 cup',\n",
       " '1 cup',\n",
       " '1 cup',\n",
       " '1 cup',\n",
       " '.5 cup',\n",
       " '1 cup',\n",
       " '1 cup',\n",
       " '1 cup',\n",
       " '.5 cup',\n",
       " '.25 cup',\n",
       " '.5 cup',\n",
       " '.5 cup',\n",
       " '1 cup',\n",
       " '.5 cup',\n",
       " '.25 cup',\n",
       " '1 cup',\n",
       " '1 cup',\n",
       " '2 table\\xadspoons',\n",
       " '.25 cup',\n",
       " '1 cup',\n",
       " '1 cup',\n",
       " '1 cup',\n",
       " '1 cup',\n",
       " '1 cup',\n",
       " '1 cup',\n",
       " '1 cup',\n",
       " '1 cup',\n",
       " '.5 cup',\n",
       " '1 cup',\n",
       " '1 cup',\n",
       " '.5 cup',\n",
       " '1 cup',\n",
       " '1 cup',\n",
       " '1 cup',\n",
       " '1 cup',\n",
       " '1 cup',\n",
       " '1 cup',\n",
       " '1 table\\xadspoon',\n",
       " '1 table\\xadspoon',\n",
       " '1 table\\xadspoon',\n",
       " '1 cup',\n",
       " '1 cup',\n",
       " '1 cup',\n",
       " '.5 cup',\n",
       " '1 cup',\n",
       " '1 cup',\n",
       " '1 cup',\n",
       " '1 cup',\n",
       " '1 cup',\n",
       " '.25 cup',\n",
       " '1 cup',\n",
       " '1 cup',\n",
       " '1 cup',\n",
       " '.5 cup',\n",
       " '1 cup',\n",
       " '1 cup',\n",
       " '1 cup',\n",
       " '1 cup',\n",
       " '1 cup',\n",
       " '.25 cup',\n",
       " '1 cup',\n",
       " '.25 cup',\n",
       " '.5 cup',\n",
       " '1 cup',\n",
       " '2 table\\xadspoons',\n",
       " '1 cup',\n",
       " '1 cup',\n",
       " '1 cup',\n",
       " '1 cup',\n",
       " '1 cup',\n",
       " '1 cup',\n",
       " '1 table\\xadspoon',\n",
       " '1 cup',\n",
       " '.25 cup',\n",
       " '.5 cup',\n",
       " '2 table\\xadspoons',\n",
       " '1 cup',\n",
       " '.5 cup',\n",
       " '1 cup',\n",
       " '1 cup',\n",
       " '.5 cup',\n",
       " '.25 cup',\n",
       " '1 cup',\n",
       " '1 cup',\n",
       " '1 cup',\n",
       " '1 cup',\n",
       " '1 cup',\n",
       " '1 cup',\n",
       " '2 .25 tea\\xadspoons',\n",
       " '1 cup',\n",
       " '1 cup ]']"
      ]
     },
     "execution_count": 36,
     "metadata": {},
     "output_type": "execute_result"
    }
   ],
   "source": [
    "#See if it worked\n",
    "volume"
   ]
  },
  {
   "cell_type": "markdown",
   "metadata": {},
   "source": [
    "#### Ounces"
   ]
  },
  {
   "cell_type": "code",
   "execution_count": 37,
   "metadata": {},
   "outputs": [],
   "source": [
    "grams = measurements[2::3]"
   ]
  },
  {
   "cell_type": "code",
   "execution_count": 38,
   "metadata": {},
   "outputs": [],
   "source": [
    "# Make sure that I am pulling the right amounts\n",
    "# grams"
   ]
  },
  {
   "cell_type": "code",
   "execution_count": 39,
   "metadata": {},
   "outputs": [],
   "source": [
    "grams = cleanhtml(grams)"
   ]
  },
  {
   "cell_type": "code",
   "execution_count": 40,
   "metadata": {},
   "outputs": [],
   "source": [
    "grams = clean(grams)"
   ]
  },
  {
   "cell_type": "code",
   "execution_count": null,
   "metadata": {},
   "outputs": [],
   "source": []
  },
  {
   "cell_type": "code",
   "execution_count": 41,
   "metadata": {},
   "outputs": [],
   "source": [
    "grams = grams.split('    ')"
   ]
  },
  {
   "cell_type": "code",
   "execution_count": null,
   "metadata": {},
   "outputs": [],
   "source": []
  },
  {
   "cell_type": "code",
   "execution_count": 42,
   "metadata": {},
   "outputs": [
    {
     "data": {
      "text/plain": [
       "['[ 120',\n",
       " '86',\n",
       " '84',\n",
       " '259',\n",
       " '43',\n",
       " '57',\n",
       " '142',\n",
       " '103',\n",
       " '85',\n",
       " '113',\n",
       " '255',\n",
       " '64',\n",
       " '120',\n",
       " '152',\n",
       " '128',\n",
       " '190',\n",
       " '4',\n",
       " '3',\n",
       " '227',\n",
       " '215',\n",
       " '213',\n",
       " '46',\n",
       " '85',\n",
       " '28',\n",
       " '142',\n",
       " '142',\n",
       " '156',\n",
       " '170',\n",
       " '241',\n",
       " '85',\n",
       " '60',\n",
       " '28',\n",
       " '21',\n",
       " '50',\n",
       " '120',\n",
       " '170',\n",
       " '128',\n",
       " '213',\n",
       " '170',\n",
       " '120',\n",
       " '152',\n",
       " '113',\n",
       " '227',\n",
       " '14',\n",
       " '85',\n",
       " '142',\n",
       " '156',\n",
       " '18',\n",
       " '128',\n",
       " '142',\n",
       " '99',\n",
       " '113',\n",
       " '113',\n",
       " '142',\n",
       " '57',\n",
       " '113',\n",
       " '50',\n",
       " '227',\n",
       " '50',\n",
       " '71',\n",
       " '113',\n",
       " '85',\n",
       " '21',\n",
       " '170',\n",
       " '170',\n",
       " '140',\n",
       " '50',\n",
       " '42',\n",
       " '85',\n",
       " '60',\n",
       " '113',\n",
       " '128',\n",
       " '57',\n",
       " '113',\n",
       " '227',\n",
       " '85',\n",
       " '21',\n",
       " '312',\n",
       " '138',\n",
       " '156',\n",
       " '28',\n",
       " '149',\n",
       " '57',\n",
       " '99',\n",
       " '227',\n",
       " '227',\n",
       " '92',\n",
       " '142',\n",
       " '149',\n",
       " '220',\n",
       " '28',\n",
       " '25',\n",
       " '35',\n",
       " '21',\n",
       " '43',\n",
       " '50',\n",
       " '124',\n",
       " '18',\n",
       " '50',\n",
       " '35',\n",
       " '11',\n",
       " '14',\n",
       " '7',\n",
       " '149',\n",
       " '106',\n",
       " '50',\n",
       " '35',\n",
       " '120',\n",
       " '120',\n",
       " '113',\n",
       " '28',\n",
       " '149',\n",
       " '57',\n",
       " '120',\n",
       " '156',\n",
       " '120',\n",
       " '99',\n",
       " '142',\n",
       " '113',\n",
       " '57',\n",
       " '74',\n",
       " '89',\n",
       " '156',\n",
       " '160',\n",
       " '142',\n",
       " '32',\n",
       " '120',\n",
       " '21',\n",
       " '11',\n",
       " '110',\n",
       " '106',\n",
       " '85',\n",
       " '184',\n",
       " '227',\n",
       " '113',\n",
       " '92',\n",
       " '18',\n",
       " '18',\n",
       " '149',\n",
       " '43',\n",
       " '35',\n",
       " '64',\n",
       " '78',\n",
       " '156',\n",
       " '85',\n",
       " '128',\n",
       " '43',\n",
       " '290',\n",
       " '213',\n",
       " '113',\n",
       " '43',\n",
       " '113',\n",
       " '227',\n",
       " '103',\n",
       " '177',\n",
       " '85',\n",
       " '78',\n",
       " '18',\n",
       " '53',\n",
       " '92',\n",
       " '99',\n",
       " '50',\n",
       " '142',\n",
       " '142',\n",
       " '104',\n",
       " '145',\n",
       " '106',\n",
       " '113',\n",
       " '170',\n",
       " '135',\n",
       " '142',\n",
       " '163',\n",
       " '80',\n",
       " '57',\n",
       " '46',\n",
       " '71',\n",
       " '71',\n",
       " '170',\n",
       " '60',\n",
       " '78',\n",
       " '124',\n",
       " '163',\n",
       " '18',\n",
       " '46',\n",
       " '152',\n",
       " '106',\n",
       " '227',\n",
       " '89',\n",
       " '184',\n",
       " '177',\n",
       " '110',\n",
       " '149',\n",
       " '85',\n",
       " '120',\n",
       " '120',\n",
       " '99',\n",
       " '142',\n",
       " '28',\n",
       " '120',\n",
       " '124',\n",
       " '103',\n",
       " '106',\n",
       " '8',\n",
       " '16',\n",
       " '18',\n",
       " '64',\n",
       " '113',\n",
       " '163',\n",
       " '71',\n",
       " '156',\n",
       " '128',\n",
       " '138',\n",
       " '227',\n",
       " '227 to 241',\n",
       " '35',\n",
       " '99',\n",
       " '113',\n",
       " '255',\n",
       " '99',\n",
       " '99',\n",
       " '167',\n",
       " '198',\n",
       " '25',\n",
       " '170',\n",
       " '35',\n",
       " '106',\n",
       " '78',\n",
       " '128',\n",
       " '113',\n",
       " '21',\n",
       " '135',\n",
       " '96',\n",
       " '156',\n",
       " '128 to 142',\n",
       " '180',\n",
       " '120',\n",
       " '14',\n",
       " '198',\n",
       " '46',\n",
       " '57',\n",
       " '18',\n",
       " '113',\n",
       " '64',\n",
       " '227',\n",
       " '184',\n",
       " '32',\n",
       " '28',\n",
       " '170',\n",
       " '106',\n",
       " '113',\n",
       " '113',\n",
       " '113',\n",
       " '96',\n",
       " '7',\n",
       " '227',\n",
       " '142 to 170 ]']"
      ]
     },
     "execution_count": 42,
     "metadata": {},
     "output_type": "execute_result"
    }
   ],
   "source": [
    "grams"
   ]
  },
  {
   "cell_type": "code",
   "execution_count": null,
   "metadata": {},
   "outputs": [],
   "source": []
  },
  {
   "cell_type": "markdown",
   "metadata": {},
   "source": [
    "#### Ounces"
   ]
  },
  {
   "cell_type": "code",
   "execution_count": 43,
   "metadata": {},
   "outputs": [],
   "source": [
    "ounces = measurements[1::3]"
   ]
  },
  {
   "cell_type": "code",
   "execution_count": 44,
   "metadata": {},
   "outputs": [],
   "source": [
    "ounces = cleanhtml(ounces)"
   ]
  },
  {
   "cell_type": "code",
   "execution_count": 45,
   "metadata": {},
   "outputs": [],
   "source": [
    "ounces = clean(ounces)"
   ]
  },
  {
   "cell_type": "code",
   "execution_count": 46,
   "metadata": {},
   "outputs": [],
   "source": [
    "ounces = ounces.split('    ')"
   ]
  },
  {
   "cell_type": "code",
   "execution_count": null,
   "metadata": {},
   "outputs": [],
   "source": []
  },
  {
   "cell_type": "markdown",
   "metadata": {},
   "source": [
    "### Make the Data Frame"
   ]
  },
  {
   "cell_type": "code",
   "execution_count": 47,
   "metadata": {},
   "outputs": [],
   "source": [
    "# df = pd.DataFrame((volume, grams, ounces), index=ingredient)"
   ]
  },
  {
   "cell_type": "code",
   "execution_count": 48,
   "metadata": {},
   "outputs": [],
   "source": [
    "diction = {'Ingredient' : ingredient, 'Volume' : volume, \"Gram\" : grams, \"Ounce\" : ounces}"
   ]
  },
  {
   "cell_type": "code",
   "execution_count": 49,
   "metadata": {},
   "outputs": [],
   "source": [
    "df = pd.DataFrame({ key:pd.Series(value) for key, value in diction.items() })"
   ]
  },
  {
   "cell_type": "code",
   "execution_count": 50,
   "metadata": {},
   "outputs": [
    {
     "data": {
      "text/html": [
       "<div>\n",
       "<style scoped>\n",
       "    .dataframe tbody tr th:only-of-type {\n",
       "        vertical-align: middle;\n",
       "    }\n",
       "\n",
       "    .dataframe tbody tr th {\n",
       "        vertical-align: top;\n",
       "    }\n",
       "\n",
       "    .dataframe thead th {\n",
       "        text-align: right;\n",
       "    }\n",
       "</style>\n",
       "<table border=\"1\" class=\"dataframe\">\n",
       "  <thead>\n",
       "    <tr style=\"text-align: right;\">\n",
       "      <th></th>\n",
       "      <th>Ingredient</th>\n",
       "      <th>Volume</th>\n",
       "      <th>Gram</th>\n",
       "      <th>Ounce</th>\n",
       "    </tr>\n",
       "  </thead>\n",
       "  <tbody>\n",
       "    <tr>\n",
       "      <th>0</th>\n",
       "      <td>All Purpose Flour</td>\n",
       "      <td>[ 1 cup</td>\n",
       "      <td>[ 120</td>\n",
       "      <td>[ 4 1/4</td>\n",
       "    </tr>\n",
       "    <tr>\n",
       "      <th>1</th>\n",
       "      <td>Almond Flour</td>\n",
       "      <td>1 cup</td>\n",
       "      <td>86</td>\n",
       "      <td>3</td>\n",
       "    </tr>\n",
       "    <tr>\n",
       "      <th>2</th>\n",
       "      <td>Almond meal</td>\n",
       "      <td>1 cup</td>\n",
       "      <td>84</td>\n",
       "      <td>3</td>\n",
       "    </tr>\n",
       "    <tr>\n",
       "      <th>3</th>\n",
       "      <td>Almond paste</td>\n",
       "      <td>1 cup</td>\n",
       "      <td>259</td>\n",
       "      <td>9 1/8</td>\n",
       "    </tr>\n",
       "    <tr>\n",
       "      <th>4</th>\n",
       "      <td>Almonds</td>\n",
       "      <td>.5 cup</td>\n",
       "      <td>43</td>\n",
       "      <td>1 1/2</td>\n",
       "    </tr>\n",
       "    <tr>\n",
       "      <th>5</th>\n",
       "      <td>Almonds</td>\n",
       "      <td>.5 cup</td>\n",
       "      <td>57</td>\n",
       "      <td>2</td>\n",
       "    </tr>\n",
       "    <tr>\n",
       "      <th>6</th>\n",
       "      <td>Almonds</td>\n",
       "      <td>1 cup</td>\n",
       "      <td>142</td>\n",
       "      <td>5</td>\n",
       "    </tr>\n",
       "    <tr>\n",
       "      <th>7</th>\n",
       "      <td>whole</td>\n",
       "      <td>1 cup</td>\n",
       "      <td>103</td>\n",
       "      <td>3 5/8</td>\n",
       "    </tr>\n",
       "    <tr>\n",
       "      <th>8</th>\n",
       "      <td>Amaranth flour</td>\n",
       "      <td>1 cup</td>\n",
       "      <td>85</td>\n",
       "      <td>3</td>\n",
       "    </tr>\n",
       "    <tr>\n",
       "      <th>9</th>\n",
       "      <td>Apples</td>\n",
       "      <td>1 cup</td>\n",
       "      <td>113</td>\n",
       "      <td>4</td>\n",
       "    </tr>\n",
       "    <tr>\n",
       "      <th>10</th>\n",
       "      <td>Apples</td>\n",
       "      <td>1 cup</td>\n",
       "      <td>255</td>\n",
       "      <td>9</td>\n",
       "    </tr>\n",
       "    <tr>\n",
       "      <th>11</th>\n",
       "      <td>Applesauce</td>\n",
       "      <td>.5 cup</td>\n",
       "      <td>64</td>\n",
       "      <td>2 1/4</td>\n",
       "    </tr>\n",
       "    <tr>\n",
       "      <th>12</th>\n",
       "      <td>Apricots</td>\n",
       "      <td>1 cup</td>\n",
       "      <td>120</td>\n",
       "      <td>4 1/4</td>\n",
       "    </tr>\n",
       "    <tr>\n",
       "      <th>13</th>\n",
       "      <td>Artisan Bread Flour</td>\n",
       "      <td>1 cup</td>\n",
       "      <td>152</td>\n",
       "      <td>5 3/8</td>\n",
       "    </tr>\n",
       "    <tr>\n",
       "      <th>14</th>\n",
       "      <td>Baker's Cinnamon Filling</td>\n",
       "      <td>1 cup</td>\n",
       "      <td>128</td>\n",
       "      <td>4 1/2</td>\n",
       "    </tr>\n",
       "    <tr>\n",
       "      <th>15</th>\n",
       "      <td>Baker's Fruit Blend</td>\n",
       "      <td>1 cup</td>\n",
       "      <td>190</td>\n",
       "      <td>6 3/4</td>\n",
       "    </tr>\n",
       "    <tr>\n",
       "      <th>16</th>\n",
       "      <td>Baker's Special Sugar</td>\n",
       "      <td>1 tea­spoon</td>\n",
       "      <td>4</td>\n",
       "      <td></td>\n",
       "    </tr>\n",
       "    <tr>\n",
       "      <th>17</th>\n",
       "      <td>Baking powder</td>\n",
       "      <td>.5 tea­spoon</td>\n",
       "      <td>3</td>\n",
       "      <td></td>\n",
       "    </tr>\n",
       "    <tr>\n",
       "      <th>18</th>\n",
       "      <td>Baking soda</td>\n",
       "      <td>1 cup</td>\n",
       "      <td>227</td>\n",
       "      <td>8</td>\n",
       "    </tr>\n",
       "    <tr>\n",
       "      <th>19</th>\n",
       "      <td>Bananas</td>\n",
       "      <td>1 cup</td>\n",
       "      <td>215</td>\n",
       "      <td>7 5/8</td>\n",
       "    </tr>\n",
       "  </tbody>\n",
       "</table>\n",
       "</div>"
      ],
      "text/plain": [
       "                  Ingredient        Volume   Gram    Ounce\n",
       "0          All Purpose Flour       [ 1 cup  [ 120  [ 4 1/4\n",
       "1               Almond Flour         1 cup     86        3\n",
       "2                Almond meal         1 cup     84        3\n",
       "3               Almond paste         1 cup    259    9 1/8\n",
       "4                    Almonds        .5 cup     43    1 1/2\n",
       "5                    Almonds        .5 cup     57        2\n",
       "6                    Almonds         1 cup    142        5\n",
       "7                      whole         1 cup    103    3 5/8\n",
       "8             Amaranth flour         1 cup     85        3\n",
       "9                     Apples         1 cup    113        4\n",
       "10                    Apples         1 cup    255        9\n",
       "11                Applesauce        .5 cup     64    2 1/4\n",
       "12                  Apricots         1 cup    120    4 1/4\n",
       "13       Artisan Bread Flour         1 cup    152    5 3/8\n",
       "14  Baker's Cinnamon Filling         1 cup    128    4 1/2\n",
       "15       Baker's Fruit Blend         1 cup    190    6 3/4\n",
       "16     Baker's Special Sugar   1 tea­spoon      4         \n",
       "17             Baking powder  .5 tea­spoon      3         \n",
       "18               Baking soda         1 cup    227        8\n",
       "19                   Bananas         1 cup    215    7 5/8"
      ]
     },
     "execution_count": 50,
     "metadata": {},
     "output_type": "execute_result"
    }
   ],
   "source": [
    "df.head(20)"
   ]
  },
  {
   "cell_type": "markdown",
   "metadata": {},
   "source": [
    "#### Make My Own DF.....Let's see!"
   ]
  },
  {
   "cell_type": "code",
   "execution_count": 51,
   "metadata": {},
   "outputs": [],
   "source": [
    "# data = {{'all purpose flour': [1, 120, 4.25]},\n",
    "#        {'baking soda': [1, 227, 8]},\n",
    "#        {'sugar': [1, 198, 7]}}\n",
    "data = {'all purpose flour': {\n",
    "        'cup': 1,\n",
    "        'grams': 120,\n",
    "        'ounces': 4.25},\n",
    "       'baking soda': {\n",
    "        'cup': 1,\n",
    "        'grams': 227,\n",
    "        'ounces': 8},\n",
    "       'sugar': {\n",
    "        'cup': 1,\n",
    "        'grams': 198,\n",
    "        'ounces': 7},\n",
    "       'almond flour': {\n",
    "        'cup': 1,\n",
    "        'grams': 86,\n",
    "        'ounces': 3},\n",
    "       'applesauce': {\n",
    "        'cup': 1,\n",
    "        'grams': 128,\n",
    "        'ounces': 4.5}}"
   ]
  },
  {
   "cell_type": "code",
   "execution_count": 52,
   "metadata": {},
   "outputs": [],
   "source": [
    "# df = pd.DataFrame(list(data.items), index = list(data.keys), columns = ('Cup', 'Grams', 'Ounces'))"
   ]
  },
  {
   "cell_type": "code",
   "execution_count": 53,
   "metadata": {},
   "outputs": [],
   "source": [
    "df = pd.DataFrame(data).transpose()"
   ]
  },
  {
   "cell_type": "code",
   "execution_count": 54,
   "metadata": {},
   "outputs": [
    {
     "data": {
      "text/html": [
       "<div>\n",
       "<style scoped>\n",
       "    .dataframe tbody tr th:only-of-type {\n",
       "        vertical-align: middle;\n",
       "    }\n",
       "\n",
       "    .dataframe tbody tr th {\n",
       "        vertical-align: top;\n",
       "    }\n",
       "\n",
       "    .dataframe thead th {\n",
       "        text-align: right;\n",
       "    }\n",
       "</style>\n",
       "<table border=\"1\" class=\"dataframe\">\n",
       "  <thead>\n",
       "    <tr style=\"text-align: right;\">\n",
       "      <th></th>\n",
       "      <th>cup</th>\n",
       "      <th>grams</th>\n",
       "      <th>ounces</th>\n",
       "    </tr>\n",
       "  </thead>\n",
       "  <tbody>\n",
       "    <tr>\n",
       "      <th>all purpose flour</th>\n",
       "      <td>1.0</td>\n",
       "      <td>120.0</td>\n",
       "      <td>4.25</td>\n",
       "    </tr>\n",
       "    <tr>\n",
       "      <th>baking soda</th>\n",
       "      <td>1.0</td>\n",
       "      <td>227.0</td>\n",
       "      <td>8.00</td>\n",
       "    </tr>\n",
       "    <tr>\n",
       "      <th>sugar</th>\n",
       "      <td>1.0</td>\n",
       "      <td>198.0</td>\n",
       "      <td>7.00</td>\n",
       "    </tr>\n",
       "    <tr>\n",
       "      <th>almond flour</th>\n",
       "      <td>1.0</td>\n",
       "      <td>86.0</td>\n",
       "      <td>3.00</td>\n",
       "    </tr>\n",
       "    <tr>\n",
       "      <th>applesauce</th>\n",
       "      <td>1.0</td>\n",
       "      <td>128.0</td>\n",
       "      <td>4.50</td>\n",
       "    </tr>\n",
       "  </tbody>\n",
       "</table>\n",
       "</div>"
      ],
      "text/plain": [
       "                   cup  grams  ounces\n",
       "all purpose flour  1.0  120.0    4.25\n",
       "baking soda        1.0  227.0    8.00\n",
       "sugar              1.0  198.0    7.00\n",
       "almond flour       1.0   86.0    3.00\n",
       "applesauce         1.0  128.0    4.50"
      ]
     },
     "execution_count": 54,
     "metadata": {},
     "output_type": "execute_result"
    }
   ],
   "source": [
    "df"
   ]
  },
  {
   "cell_type": "code",
   "execution_count": 102,
   "metadata": {},
   "outputs": [],
   "source": [
    "data = {'all purpose flour': {'cup': 1, 'grams': 120, 'ounces': 4.25},\n",
    "        'baking soda': {'cup': 1, 'grams': 227, 'ounces': 8},\n",
    "        'sugar': {'cup': 1, 'grams': 198, 'ounces': 7},\n",
    "        'almond flour': {'cup': 1, 'grams': 86, 'ounces': 3},\n",
    "        'applesauce': {'cup': 1, 'grams': 128, 'ounces': 4.5},\n",
    "        'almonds (sliced)': {'cup': 1, 'grams': 86, 'ounces': 3},\n",
    "        'almonds (whole)': {'cup': 1, 'grams': 142, 'ounces': 5},\n",
    "        'amaranth flour': {'cup': 1, 'grams': 103, 'ounces': 3.625},\n",
    "        'apples (peeled, sliced)': {'cup': 1, 'grams': 113, 'ounces': 4},\n",
    "        'apricots (dried, diced)': {'cup': 1, 'grams': 128, 'ounces': 4.5},\n",
    "        'bread flour': {'cup': 1, 'grams': 120, 'ounces': 4.25},\n",
    "        'baking powder': {'cup': 1, 'grams': 192, 'ounces': 6.98},\n",
    "        'bananas': {'cup': 1, 'grams': 227, 'ounces': 8},\n",
    "        'barley flour': {'cup': 1, 'grams': 85, 'ounces': 3},\n",
    "        'bell peppers': {'cup': 1, 'grams': 142, 'ounces': 5},\n",
    "        'blueberries': {'cup': 1, 'grams': 170, 'ounces': 6},\n",
    "        'Bread crumbs (dried)': {'cup': 1, 'grams': 112, 'ounces': 4},\n",
    "        'bread crumbs (fresh)': {'cup': 1, 'grams': 84, 'ounces': 3},\n",
    "        'brown rice (cooked)': {'cup': 1, 'grams': 170, 'ounces': 6},\n",
    "        'brown rice flour': {'cup': 1, 'grams': 128, 'ounces': 4.5},\n",
    "        'buckwheat flour': {'cup': 1, 'grams': 120, 'ounces': 4.25},\n",
    "        'bulgur': {'cup': 1, 'grams': 152, 'ounces': 5.375},\n",
    "        'butter': {'cup': 1, 'grams': 226, 'ounces': 8},\n",
    "        'buttermilk': {'cup': 1, 'grams': 227, 'ounces': 8},\n",
    "        'caraway seeds': {'cup': 1, 'grams': 144, 'ounces': 5},\n",
    "        'fennel': {'cup': 1, 'grams': 144, 'ounces': 5},\n",
    "        'carrots (diced)': {'cup': 1, 'grams': 142, 'ounces': 5},\n",
    "        'carrots (grated)': {'cup': 1, 'grams': 99, 'ounces': 3.5},\n",
    "        'cashews (chopped)': {'cup': 1, 'grams': 113, 'ounces': 4},\n",
    "        'cashews (whole)': {'cup': 1, 'grams': 113, 'ounces': 4},\n",
    "        'celery': {'cup': 1, 'grams': 142, 'ounces': 5},\n",
    "        'feta cheese': {'cup': 1, 'grams': 114, 'ounces': 4},\n",
    "        'shredded cheese': {'cup': 1, 'grams': 113, 'ounces': 4},\n",
    "        'parmesan': {'cup': 1, 'grams': 100, 'ounces': 3.5},\n",
    "        'ricotta': {'cup': 1, 'grams': 227, 'ounces': 8},\n",
    "        'cherries (candied)': {'cup': 1, 'grams': 200, 'ounces': 7},\n",
    "        'cherries (dired)': {'cup': 1, 'grams': 142, 'ounces': 5},\n",
    "        'cherries (frozen)': {'cup': 1, 'grams': 113, 'ounces': 4},\n",
    "        'chickpea flour': {'cup': 1, 'grams': 113, 'ounces': 4},\n",
    "        'chives': {'cup': 1, 'grams': 1.5, 'ounces': 42},\n",
    "        'chocolate (chopped)': {'cup': 1, 'grams': 170, 'ounces': 6},\n",
    "        'chocolate chips': {'cup': 1, 'grams': 170, 'ounces': 6},\n",
    "        'cocoa powder': {'cup': 1, 'grams': 84, 'ounces': 3},\n",
    "        'coconut (shredded)': {'cup': 1, 'grams': 85, 'ounces': 3},\n",
    "        'coconut (flakes)': {'cup': 1, 'grams': 2.125, 'ounces': 60},\n",
    "        'coconut flour': {'cup': 1, 'grams': 128, 'ounces': 4.5},\n",
    "        'coconut oil': {'cup': 1, 'grams': 226, 'ounces': 8},\n",
    "        'confectioners sugar': {'cup': 1, 'grams': 113.5, 'ounces': 4},\n",
    "        'cookie crumbs': {'cup': 1, 'grams': 3, 'ounces': 85},\n",
    "        'popcorn': {'cup': 1, 'grams': 5, 'ounces': 0.188},\n",
    "        'corn syrup': {'cup': 1, 'grams': 312, 'ounces': 11},\n",
    "        'cornmeal': {'cup': 1, 'grams': 138, 'ounces': 5.5},\n",
    "        'cornstarch': {'cup': 1, 'grams': 112, 'ounces': 4},\n",
    "        'cracked wheat': {'cup': 1, 'grams': 149, 'ounces': 5.25},\n",
    "        'cranberries (dried)': {'cup': 1, 'grams': 114, 'ounces': 4},\n",
    "        'cranberries': {'cup': 1, 'grams': 99, 'ounces': 3.5},\n",
    "        'cream (heavy. light, or half&half)': {'cup': 1, 'grams': 227, 'ounces': 8},\n",
    "        'cream cheese': {'cup': 1, 'grams': 227, 'ounces': 8},\n",
    "        'currants': {'cup': 1, 'grams': 142, 'ounces': 5},\n",
    "        'dates (chopped)': {'cup': 1, 'grams': 149, 'ounces': 5.25},\n",
    "        'demerara sugar': {'cup': 1, 'grams': 220, 'ounces': 7.75},\n",
    "        'buttermilk powder': {'cup': 1, 'grams': 200, 'ounces': 7},\n",
    "        'powdered milk': {'cup': 1, 'grams': 5, 'ounces': 140},\n",
    "        'nonfat milk powder': {'cup': 1, 'grams': 3, 'ounces': 84},\n",
    "        'potato flakes': {'cup': 1, 'grams': 86, 'ounces': 3},\n",
    "        'whole milk powder': {'cup': 1, 'grams': 100, 'ounces': 3.5},\n",
    "        'durum flour': {'cup': 1, 'grams': 124, 'ounces': 4.375},\n",
    "        'espresso powder': {'cup': 1, 'grams': 112, 'ounces': 4},\n",
    "        'fig dried': {'cup': 1, 'grams': 149, 'ounces': 5.25},\n",
    "        'flax meal': {'cup': 1, 'grams': 100, 'ounces': 3.5},\n",
    "        'flaxseed': {'cup': 1, 'grams': 140, 'ounces': 5},\n",
    "        'garlic (minced)': {'cup': 1, 'grams': 224, 'ounces': 8},\n",
    "        'garlic (peeled and sliced)': {'cup': 1, 'grams': 149, 'ounces': 5.25},\n",
    "        'ginger': {'cup': 1, 'grams': 228, 'ounces': 8},\n",
    "        'gluten free all-purpose flour': {'cup': 1, 'grams': 156, 'ounces': 5.5},\n",
    "        'graham crackers (crushed)': {'cup': 1, 'grams': 142, 'ounces': 5},\n",
    "        'grape nuts': {'cup': 1, 'grams': 114, 'ounces': 4},\n",
    "        'hazelnut flour': {'cup': 1, 'grams': 89, 'ounces': 3.125},\n",
    "        'hazelnut spread': {'cup': 1, 'grams': 320, 'ounces': 11.25},\n",
    "        'hazelnuts (whole)': {'cup': 1, 'grams': 142, 'ounces': 5},\n",
    "        'honey': {'cup': 1, 'grams': 336, 'ounces': 12},\n",
    "        'jam': {'cup': 1, 'grams': 340, 'ounces': 12},\n",
    "        'preserves': {'cup': 1, 'grams': 340, 'ounces': 12},\n",
    "        'lard': {'cup': 1, 'grams': 226, 'ounces': 8},\n",
    "        'leeks (diced)': {'cup': 1, 'grams': 92, 'ounces': 3.25},\n",
    "        'macadamia nuts': {'cup': 1, 'grams': 149, 'ounces': 5.25},\n",
    "        'malt syrup': {'cup': 1, 'grams': 344, 'ounces': 12},\n",
    "        'maple syrup': {'cup': 1, 'grams': 312, 'ounces': 11},\n",
    "        'marshmallow fluff': {'cup': 1, 'grams': 128, 'ounces': 4.5},\n",
    "        'marshmallows (mini)': {'cup': 1, 'grams': 43, 'ounces': 1.5},\n",
    "        'mashed potatoes': {'cup': 1, 'grams': 213, 'ounces': 7.5},\n",
    "        'mayonnaise': {'cup': 1, 'grams': 226, 'ounces': 8},\n",
    "        'meringue powder': {'cup': 1, 'grams': 172, 'ounces': 6},\n",
    "        'evaporated milk': {'cup': 1, 'grams': 226, 'ounces': 8},\n",
    "        'milk': {'cup': 1, 'grams': 227, 'ounces': 8},\n",
    "        'millet': {'cup': 1, 'grams': 206, 'ounces': 7.25},\n",
    "        'mini chocolate chips': {'cup': 1, 'grams': 177, 'ounces': 6.25},\n",
    "        'molasses': {'cup': 1, 'grams': 340, 'ounces': 12},\n",
    "        'mushrooms (sliced)': {'cup': 1, 'grams': 78, 'ounces': 2.75},\n",
    "        'oat bran': {'cup': 1, 'grams': 106, 'ounces': 2.75},\n",
    "        'oat flour': {'cup': 1, 'grams': 92, 'ounces': 3.25},\n",
    "        'oats (rolled)': {'cup': 1, 'grams': 99, 'ounces': 3.5},\n",
    "        'olive oil': {'cup': 1, 'grams': 200, 'ounces': 7},\n",
    "        'olives (sliced)': {'cup': 1, 'grams': 142, 'ounces': 5},\n",
    "        'onions (diced)': {'cup': 1, 'grams': 142, 'ounces': 5},\n",
    "        'pastry flour': {'cup': 1, 'grams':106, 'ounces': 3.75},\n",
    "        'peaches (diced)': {'cup': 1, 'grams': 170, 'ounces': 6},\n",
    "        'peanut butter': {'cup': 1, 'grams': 270, 'ounces': 9.5},\n",
    "        'peanuts': {'cup': 1, 'grams': 142, 'ounces': 5},\n",
    "        'pears (diced)': {'cup': 1, 'grams': 163, 'ounces': 5.75},\n",
    "        'pecans (diced)': {'cup': 1, 'grams': 114, 'ounces': 4},\n",
    "        'pine nuts': {'cup': 1, 'grams': 142, 'ounces': 5},\n",
    "        'pineapple (diced)': {'cup': 1, 'grams': 170, 'ounces': 6},\n",
    "        'pistachio': {'cup': 1, 'grams': 120, 'ounces': 4.25},\n",
    "        'poppy seeds': {'cup': 1, 'grams': 144, 'ounces': 5},\n",
    "        'potato flour': {'cup': 1, 'grams': 184, 'ounces': 6.5},\n",
    "        'pumpernickel flour': {'cup': 1, 'grams': 106, 'ounces': 3.75},\n",
    "        'pumpkin (canned)': {'cup': 1, 'grams': 227, 'ounces': 8},\n",
    "        'quick cooking oats': {'cup': 1, 'grams': 89, 'ounces': 3.125},\n",
    "        'quinoa (cooked)': {'cup': 1, 'grams': 184, 'ounces': 6.5},\n",
    "        'quinoa flour': {'cup': 1, 'grams': 110, 'ounces': 3.875},\n",
    "        'rasins': {'cup': 1, 'grams':149 , 'ounces': 5.25},\n",
    "        'raspberries': {'cup': 1, 'grams': 120, 'ounces': 4.25},\n",
    "        'rice (long grain, dry)': {'cup': 1, 'grams': 198, 'ounces': 7},\n",
    "        'rice flour': {'cup': 1, 'grams': 142, 'ounces': 5},\n",
    "        'rice crispies': {'cup': 1, 'grams': 28, 'ounces': 1},\n",
    "        'rye flour': {'cup': 1, 'grams': 103, 'ounces': 3.625},\n",
    "        'table salt': {'cup': 1, 'grams': 288, 'ounces': 10},\n",
    "        'scallions (sliced)': {'cup': 1, 'grams': 64, 'ounces': 2.25},\n",
    "        'self-rising flour': {'cup': 1, 'grams': 113, 'ounces': 4},\n",
    "        'semolina flour': {'cup': 1, 'grams': 163, 'ounces': 5.75},\n",
    "        'sesame seeds': {'cup': 1, 'grams': 142, 'ounces': 5},\n",
    "        'shallots (sliced)': {'cup': 1, 'grams': 156, 'ounces': 5.5},\n",
    "        'sorghum flour': {'cup': 1, 'grams': 138, 'ounces': 4.825},\n",
    "        'sour cream': {'cup': 1, 'grams': 227, 'ounces': 8},\n",
    "        'soy flour': {'cup': 1, 'grams': 140, 'ounces': 5},\n",
    "        'sprouted wheat flour': {'cup': 1, 'grams': 113, 'ounces': 4},\n",
    "        'steel cut oats (raw)': {'cup': 1, 'grams': 198, 'ounces': 7},\n",
    "        'steel cut oats (cooked)': {'cup': 1, 'grams': 255, 'ounces': 9},\n",
    "        'strawberries (sliced)': {'cup': 1, 'grams': 167, 'ounces': 5.825},\n",
    "        'granulated sugar': {'cup': 1, 'grams': 198, 'ounces': 7},\n",
    "        'Splenda': {'cup': 1, 'grams': 25, 'ounces': 0.825},\n",
    "        'sunflower seeds': {'cup': 1, 'grams': 140, 'ounces': 5},\n",
    "        'sweetened condensed milk': {'cup': 1, 'grams': 312, 'ounces': 11},\n",
    "        'tahini paste': {'cup': 1, 'grams': 256, 'ounces': 9},\n",
    "        'tapioca flour': {'cup': 1, 'grams': 113, 'ounces': 4},\n",
    "        'teff flour': {'cup': 1, 'grams': 135, 'ounces': 4.75},\n",
    "        'toffee chunks': {'cup': 1, 'grams': 156, 'ounces': 5.5},\n",
    "        'turbinado sugar': {'cup': 1, 'grams': 180, 'ounces': 6.375},\n",
    "        'unbleached cake flour': {'cup': 1, 'grams': 120, 'ounces': 4.25},\n",
    "        'vanilla extract': {'cup': 1, 'grams': 224, 'ounces': 8},\n",
    "        'vegetable oil': {'cup': 1, 'grams': 198, 'ounces': 7},\n",
    "        'vegetable shortening': {'cup': 1, 'grams': 184, 'ounces': 6.5},\n",
    "        'walnuts (chopped)': {'cup': 1, 'grams': 113, 'ounces': 4},\n",
    "        'walnuts (whole)': {'cup': 1, 'grams': 128, 'ounces': 4.5},\n",
    "        'water': {'cup': 1, 'grams': 227, 'ounces': 8},\n",
    "        'wheat bran': {'cup': 1, 'grams': 64, 'ounces': 2.25},\n",
    "        'wheat germ': {'cup': 1, 'grams': 112, 'ounces': 4},\n",
    "        'white chocolate chips': {'cup': 1, 'grams': 170, 'ounces': 6},\n",
    "        'white rye flour': {'cup': 1, 'grams': 106, 'ounces': 3.75},\n",
    "        'whole wheat flour': {'cup': 1, 'grams': 113, 'ounces': 4},\n",
    "        'instant yeast': {'cup': 1, 'grams': 149, 'ounces': 5.325},\n",
    "        'yogurt': {'cup': 1, 'grams': 227, 'ounces': 8},\n",
    "        'ghee': {'cup': 1, 'grams': 220.69, 'ounces': 7.78}}"
   ]
  },
  {
   "cell_type": "code",
   "execution_count": 56,
   "metadata": {},
   "outputs": [],
   "source": [
    "## Turn into a data frame\n",
    "df = pd.DataFrame(data).transpose()"
   ]
  },
  {
   "cell_type": "code",
   "execution_count": 57,
   "metadata": {},
   "outputs": [],
   "source": [
    "msmt = ['gram', 'cup', 'ml', 'ounce', 'teaspoon', 'tablespoon', 'pound', 'milliliter', \n",
    "        'liter', 'fluid ounce']\n",
    "import streamlit as st"
   ]
  },
  {
   "cell_type": "code",
   "execution_count": 58,
   "metadata": {},
   "outputs": [],
   "source": [
    "# First selection box to define your ingredient\n",
    "# ingr = st.selectbox('What ingredient are you using?', df.index)"
   ]
  },
  {
   "cell_type": "code",
   "execution_count": 59,
   "metadata": {},
   "outputs": [],
   "source": [
    "# Second input to define how much you have\n",
    "# amount = st.number_input('How much do you have?')"
   ]
  },
  {
   "cell_type": "code",
   "execution_count": 60,
   "metadata": {},
   "outputs": [],
   "source": [
    "# Define the measurement that you already have\n",
    "# measurement = st.radio('What measurement do you have?', msmt)"
   ]
  },
  {
   "cell_type": "code",
   "execution_count": 61,
   "metadata": {},
   "outputs": [],
   "source": [
    "#Define the measurement that you need\n",
    "# need = st.radio('What measurement do you need?', msmt)"
   ]
  },
  {
   "cell_type": "code",
   "execution_count": 62,
   "metadata": {},
   "outputs": [],
   "source": [
    "ingr = 'all purpose flour'\n",
    "measurement = 'gram'\n",
    "need = 'cup'\n",
    "\n",
    "details = [ingr, measurement, need]"
   ]
  },
  {
   "cell_type": "code",
   "execution_count": 63,
   "metadata": {},
   "outputs": [],
   "source": [
    "def grams_ounces(ingr):\n",
    "    for i in df.index:\n",
    "        if i == ingr:\n",
    "            gr = df.loc[i, 'grams']\n",
    "            oz = df.loc[i, \"ounces\"]\n",
    "    print(gr, oz, ingr)"
   ]
  },
  {
   "cell_type": "code",
   "execution_count": 64,
   "metadata": {},
   "outputs": [
    {
     "name": "stdout",
     "output_type": "stream",
     "text": [
      "120.0 4.25 all purpose flour\n"
     ]
    }
   ],
   "source": [
    "grams_ounces('all purpose flour')"
   ]
  },
  {
   "cell_type": "code",
   "execution_count": 65,
   "metadata": {},
   "outputs": [],
   "source": [
    "# for i in df.index:\n",
    "#     if i == ingr:\n",
    "#         gr = df.loc[i, 'grams']\n",
    "#         oz = df.loc[i, \"ounces\"]\n",
    "#     print(gr, oz, ingr)"
   ]
  },
  {
   "cell_type": "code",
   "execution_count": null,
   "metadata": {},
   "outputs": [],
   "source": []
  },
  {
   "cell_type": "code",
   "execution_count": null,
   "metadata": {},
   "outputs": [],
   "source": []
  },
  {
   "cell_type": "code",
   "execution_count": null,
   "metadata": {},
   "outputs": [],
   "source": []
  },
  {
   "cell_type": "markdown",
   "metadata": {},
   "source": [
    "### Let's do Streamlit!"
   ]
  },
  {
   "cell_type": "code",
   "execution_count": null,
   "metadata": {},
   "outputs": [],
   "source": []
  },
  {
   "cell_type": "code",
   "execution_count": 66,
   "metadata": {},
   "outputs": [],
   "source": [
    "import autocomplete"
   ]
  },
  {
   "cell_type": "code",
   "execution_count": 67,
   "metadata": {},
   "outputs": [],
   "source": [
    "# autocomplete.load()"
   ]
  },
  {
   "cell_type": "code",
   "execution_count": 68,
   "metadata": {},
   "outputs": [],
   "source": [
    "# autocomplete.predict('flo', 'pow')"
   ]
  },
  {
   "cell_type": "code",
   "execution_count": 69,
   "metadata": {},
   "outputs": [],
   "source": [
    "#     for i in df.index:\n",
    "#         if i == ingr:\n",
    "#             gr = df.loc[i, 'grams'])\n",
    "#             oz = df.loc[i, \"ounces\"])\n",
    "#             print(gr, oz, ingr)\n",
    "#         else:\n",
    "#             return \"Sorry, no \" + ingr "
   ]
  },
  {
   "cell_type": "code",
   "execution_count": 70,
   "metadata": {},
   "outputs": [
    {
     "data": {
      "text/plain": [
       "'all purpose flour'"
      ]
     },
     "execution_count": 70,
     "metadata": {},
     "output_type": "execute_result"
    }
   ],
   "source": [
    "ingr"
   ]
  },
  {
   "cell_type": "code",
   "execution_count": 71,
   "metadata": {},
   "outputs": [],
   "source": [
    "gram = [df.loc[i, 'grams'] for i in df.index if i == ingr]"
   ]
  },
  {
   "cell_type": "code",
   "execution_count": 72,
   "metadata": {},
   "outputs": [],
   "source": [
    "grm = gram[0]"
   ]
  },
  {
   "cell_type": "code",
   "execution_count": 73,
   "metadata": {
    "scrolled": true
   },
   "outputs": [
    {
     "data": {
      "text/plain": [
       "120.0"
      ]
     },
     "execution_count": 73,
     "metadata": {},
     "output_type": "execute_result"
    }
   ],
   "source": [
    "grm"
   ]
  },
  {
   "cell_type": "code",
   "execution_count": 74,
   "metadata": {},
   "outputs": [],
   "source": [
    "ouz = [df.loc[i, 'ounces'] for i in df.index if i == ingr]\n",
    "ouz = ouz[0]"
   ]
  },
  {
   "cell_type": "code",
   "execution_count": 75,
   "metadata": {},
   "outputs": [
    {
     "data": {
      "text/plain": [
       "4.25"
      ]
     },
     "execution_count": 75,
     "metadata": {},
     "output_type": "execute_result"
    }
   ],
   "source": [
    "ouz"
   ]
  },
  {
   "cell_type": "code",
   "execution_count": 76,
   "metadata": {},
   "outputs": [],
   "source": [
    "amount = 120\n",
    "# Just for sake of this example. It'll really be the input from user"
   ]
  },
  {
   "cell_type": "code",
   "execution_count": null,
   "metadata": {},
   "outputs": [],
   "source": []
  },
  {
   "cell_type": "code",
   "execution_count": null,
   "metadata": {},
   "outputs": [],
   "source": []
  },
  {
   "cell_type": "code",
   "execution_count": 112,
   "metadata": {},
   "outputs": [],
   "source": [
    "# fl.gram_to_ounce(452.5)\n",
    "\n",
    "fl = baking(120, 4.25, 'all purpose ')\n",
    "# return ('fl' + '.' + measurement + '_to_' + need + '(' + amount + ')')"
   ]
  },
  {
   "cell_type": "code",
   "execution_count": 78,
   "metadata": {},
   "outputs": [],
   "source": [
    "# function = f'{measurement}_to_{need}({amount})'"
   ]
  },
  {
   "cell_type": "code",
   "execution_count": 79,
   "metadata": {},
   "outputs": [],
   "source": [
    "function = ('fl.%s_to_%s(%d)' % (measurement, need, amount))"
   ]
  },
  {
   "cell_type": "code",
   "execution_count": 111,
   "metadata": {},
   "outputs": [
    {
     "data": {
      "text/plain": [
       "<__main__.baking at 0x124c50240>"
      ]
     },
     "execution_count": 111,
     "metadata": {},
     "output_type": "execute_result"
    }
   ],
   "source": [
    "fl"
   ]
  },
  {
   "cell_type": "code",
   "execution_count": 114,
   "metadata": {},
   "outputs": [
    {
     "ename": "AttributeError",
     "evalue": "'baking' object has no attribute 'amount'",
     "output_type": "error",
     "traceback": [
      "\u001b[0;31m---------------------------------------------------------------------------\u001b[0m",
      "\u001b[0;31mAttributeError\u001b[0m                            Traceback (most recent call last)",
      "\u001b[0;32m<ipython-input-114-1d7f7d37ef24>\u001b[0m in \u001b[0;36m<module>\u001b[0;34m\u001b[0m\n\u001b[0;32m----> 1\u001b[0;31m \u001b[0mfl\u001b[0m\u001b[0;34m.\u001b[0m\u001b[0mml_to_tsp\u001b[0m\u001b[0;34m(\u001b[0m\u001b[0;36m120\u001b[0m\u001b[0;34m)\u001b[0m\u001b[0;34m\u001b[0m\u001b[0;34m\u001b[0m\u001b[0m\n\u001b[0m",
      "\u001b[0;32m<ipython-input-109-801109f274ed>\u001b[0m in \u001b[0;36mml_to_tsp\u001b[0;34m(self, amount)\u001b[0m\n\u001b[1;32m    166\u001b[0m \u001b[0;34m\u001b[0m\u001b[0m\n\u001b[1;32m    167\u001b[0m     \u001b[0;32mdef\u001b[0m \u001b[0mml_to_tsp\u001b[0m\u001b[0;34m(\u001b[0m\u001b[0mself\u001b[0m\u001b[0;34m,\u001b[0m \u001b[0mamount\u001b[0m\u001b[0;34m)\u001b[0m\u001b[0;34m:\u001b[0m\u001b[0;34m\u001b[0m\u001b[0;34m\u001b[0m\u001b[0m\n\u001b[0;32m--> 168\u001b[0;31m         \u001b[0mtsp\u001b[0m \u001b[0;34m=\u001b[0m \u001b[0mround\u001b[0m\u001b[0;34m(\u001b[0m\u001b[0;34m(\u001b[0m\u001b[0mself\u001b[0m\u001b[0;34m.\u001b[0m\u001b[0mamount\u001b[0m\u001b[0;34m*\u001b[0m\u001b[0;36m14.78\u001b[0m\u001b[0;34m)\u001b[0m\u001b[0;34m*\u001b[0m\u001b[0;36m3\u001b[0m\u001b[0;34m,\u001b[0m \u001b[0mndigits\u001b[0m\u001b[0;34m=\u001b[0m\u001b[0;36m2\u001b[0m\u001b[0;34m)\u001b[0m\u001b[0;34m\u001b[0m\u001b[0;34m\u001b[0m\u001b[0m\n\u001b[0m\u001b[1;32m    169\u001b[0m         \u001b[0;32mif\u001b[0m \u001b[0mtsp\u001b[0m \u001b[0;34m==\u001b[0m \u001b[0;36m1\u001b[0m\u001b[0;34m:\u001b[0m\u001b[0;34m\u001b[0m\u001b[0;34m\u001b[0m\u001b[0m\n\u001b[1;32m    170\u001b[0m             \u001b[0;32mreturn\u001b[0m \u001b[0;34m(\u001b[0m\u001b[0;34m'{} milliliters {} is {} tablespoon'\u001b[0m\u001b[0;34m)\u001b[0m\u001b[0;34m.\u001b[0m\u001b[0mformat\u001b[0m\u001b[0;34m(\u001b[0m\u001b[0mamount\u001b[0m\u001b[0;34m,\u001b[0m \u001b[0mself\u001b[0m\u001b[0;34m.\u001b[0m\u001b[0mitem\u001b[0m\u001b[0;34m,\u001b[0m \u001b[0mtsp\u001b[0m\u001b[0;34m)\u001b[0m\u001b[0;34m\u001b[0m\u001b[0;34m\u001b[0m\u001b[0m\n",
      "\u001b[0;31mAttributeError\u001b[0m: 'baking' object has no attribute 'amount'"
     ]
    }
   ],
   "source": [
    "fl.ml_to_tsp(120)"
   ]
  },
  {
   "cell_type": "code",
   "execution_count": 82,
   "metadata": {},
   "outputs": [
    {
     "data": {
      "text/plain": [
       "'fl.gram_to_cup(120)'"
      ]
     },
     "execution_count": 82,
     "metadata": {},
     "output_type": "execute_result"
    }
   ],
   "source": [
    "function"
   ]
  },
  {
   "cell_type": "code",
   "execution_count": 85,
   "metadata": {},
   "outputs": [],
   "source": [
    "dfcsv = df.to_csv(index=True)"
   ]
  },
  {
   "cell_type": "code",
   "execution_count": null,
   "metadata": {},
   "outputs": [],
   "source": []
  },
  {
   "cell_type": "code",
   "execution_count": 98,
   "metadata": {},
   "outputs": [],
   "source": [
    "class baking():\n",
    "    def __init__(self, ingr, amount, measurement, need):\n",
    "        '''This is going to be based off of the specific weight of an ingredient.\n",
    "        grams_in_cup = how many grams of the ingredient is in a cup\n",
    "        ounce_in_cup = how many ounces of the ingredient in in a cup'''\n",
    "        # self.grams_in_cup = grams_in_cup\n",
    "        # self.ounce_in_cup = ounce_in_cup\n",
    "        # self.item = item\n",
    "        self.ingr = ingr\n",
    "        self.amount = amount\n",
    "        self.measurement = measurement\n",
    "        self.need = need\n",
    "        grm = [df.loc[i, 'grams'] for i in df.index if i == ingr]\n",
    "        self.grm = grm[0]\n",
    "        ouz = [df.loc[i, 'ounces'] for i in df.index if i == ingr]\n",
    "        self.ouz = ouz[0]\n",
    "\n",
    "        if self.measurement == 'gram':\n",
    "            if need == 'cup':\n",
    "                cup = round(self.amount/self.grm, ndigits=2)\n",
    "            if cup == 1:\n",
    "                print('{} grams {} is {} cup'.format(self.amount, self.ingr, cup))\n",
    "            else:\n",
    "                print('{} grams {} is {} cups'.format(self.amount, self.ingr, cup))"
   ]
  },
  {
   "cell_type": "code",
   "execution_count": 90,
   "metadata": {},
   "outputs": [
    {
     "data": {
      "text/plain": [
       "['all purpose flour', 'gram', 'cup']"
      ]
     },
     "execution_count": 90,
     "metadata": {},
     "output_type": "execute_result"
    }
   ],
   "source": [
    "details"
   ]
  },
  {
   "cell_type": "code",
   "execution_count": 91,
   "metadata": {},
   "outputs": [],
   "source": [
    "amount = 120"
   ]
  },
  {
   "cell_type": "code",
   "execution_count": 94,
   "metadata": {},
   "outputs": [
    {
     "data": {
      "text/plain": [
       "['all purpose flour', 120, 'gram', 'cup']"
      ]
     },
     "execution_count": 94,
     "metadata": {},
     "output_type": "execute_result"
    }
   ],
   "source": [
    "details"
   ]
  },
  {
   "cell_type": "code",
   "execution_count": 93,
   "metadata": {},
   "outputs": [],
   "source": [
    "ingr = 'all purpose flour'\n",
    "measurement = 'gram'\n",
    "need = 'cup'\n",
    "amount = 120\n",
    "details = [ingr, amount, measurement, need]"
   ]
  },
  {
   "cell_type": "code",
   "execution_count": 101,
   "metadata": {},
   "outputs": [
    {
     "name": "stdout",
     "output_type": "stream",
     "text": [
      "120 grams all purpose flour is 1.0 cup\n",
      "<__main__.baking object at 0x1250176a0>\n"
     ]
    }
   ],
   "source": [
    "print(baking(ingr, amount, measurement, need))"
   ]
  },
  {
   "cell_type": "code",
   "execution_count": null,
   "metadata": {},
   "outputs": [],
   "source": [
    "    def tsp_to_tbsp(self, amount):\n",
    "        ''' 3 teaspoons are always 1 tablespoon no matter what you're measuring'''\n",
    "        tbsp = round(amount*3, ndigits=2)\n",
    "        if tbsp == 1:\n",
    "            return ('{} teaspoons {} is {} tablespoon').format(amount, self.item, ounce)\n",
    "        else:\n",
    "            return ('{} teaspoons {} is {} tablespoons').format(amount, self.item, ounce)\n",
    "\n",
    "    \n",
    "    def tbsp_to_tsp(self, amount):\n",
    "        ''' 3 teaspoons are always 1 tablespoon no matter what you're measuring'''\n",
    "        tbsp = round(amount/3, ndigits=2)\n",
    "        if amount == 1:\n",
    "            return ('{} tablespoon {} is {} teaspoons').format(amount, self.item, ounce)\n",
    "        else:\n",
    "            return ('{} tablespoons {} is {} teaspoons').format(amount, self.item, ounce)\n",
    "    \n",
    "    def cup_to_gram(self, amount):\n",
    "        gram = round(amount*self.grams_in_cup, ndigits=2)\n",
    "        if amount == 1:\n",
    "            return ('{} cup {} is {} grams').format(amount, self.item, gram)\n",
    "        else:\n",
    "            return ('{} cups {} is {} grams').format(amount, self.item, gram)\n",
    "        \n",
    "    def ounce_to_gram(self, amount):\n",
    "        ounce = round(amount/(self.grams_in_cup/self.ounce_in_cup), ndigits=2)\n",
    "        if ounce == 1:\n",
    "            return ('{} grams {} is {} ounce').format(amount, self.item, ounce)\n",
    "        else:\n",
    "            return ('{} grams {} is {} ounces').format(amount, self.item, ounce)\n",
    "    \n",
    "    def ounce_to_pound(self, amount):\n",
    "        pound = round(amount*16, ndigits=2)\n",
    "        if pound == 1:\n",
    "            return ('{} ounces {} is {} pound').format(amount, self.item, pound)\n",
    "        else: \n",
    "            return ('{} ounces {} is {} pounds').format(amount, self.item, pound)\n",
    "    \n",
    "    def pound_to_ounce(self, amount):\n",
    "        ounce = round(amount/16, ndigits=2)\n",
    "        if amount == 1:\n",
    "            return ('{} pound {} is {} ounces').format(amount, self.item, ounce)\n",
    "        else:\n",
    "            return ('{} pound {} is {} ounces').format(amount, self.item, ounce)\n",
    "        \n",
    "# class liquids(baking):\n",
    "#     '''Not doing this based on weight. This is strictly volume\n",
    "#     ie these measurements don't depend on amount of product'''\n",
    "\n",
    "    def cup_to_tsp(self, amount):\n",
    "        tsp = round(amount*48, ndigits=2)\n",
    "        if amount == 1:\n",
    "            return ('{} cup {} is {} teaspoons').format(amount, self.item, tsp)\n",
    "        else:\n",
    "            return ('{} tablespoons {} is {} teaspoons').format(amount, self.item, tsp)\n",
    "        \n",
    "    def cup_to_tbsp(self, amount):\n",
    "        tsp = round(amount/3, ndigits=2)\n",
    "        if amount == 1:\n",
    "            return ('{} tablespoon {} is {} teaspoons').format(amount, self.item, tsp)\n",
    "        else:\n",
    "            return ('{} tablespoons {} is {} teaspoons').format(amount, self.item, tsp)\n",
    "\n",
    "    def tbsp_to_cup(self, amount):\n",
    "        ''' 16 tbsps in one cup'''\n",
    "        cup = round(amount/16, ndigits=2)\n",
    "        if cup == 1:\n",
    "            return ('{} tablespoons {} is {} cup').format(amount, self.item, cup)\n",
    "        else:\n",
    "            return ('{} tablespoons {} is {} cups').format(amount, self.item, cup)\n",
    "\n",
    "    def tsp_to_cup(self, amount):\n",
    "        cup = round(amount/48, ndigits=2)\n",
    "        if cup == 1:\n",
    "            return ('{} teaspoons {} is {} cup').format(amount, self.item, cup)\n",
    "        else:\n",
    "            return ('{} teaspoons {} is {} cups').format(amount, self.item, cup)\n",
    "\n",
    "    def cup_to_ounce(self, amount):\n",
    "        ounce = round(amount*16, ndigits=2)\n",
    "        if amount == 1:\n",
    "            return ('{} cup {} is {} ounces').format(amount, self.item, ounce)\n",
    "        else:\n",
    "            return ('{} cups {} is {} ounces').format(amount, self.item, ounce)\n",
    "    \n",
    "    def cup_to_ml(self, amount):\n",
    "        ml = round(amount/258.59, ndigits=2)\n",
    "        if amount == 1:\n",
    "            return ('{} cup {} is {} milliliters').format(amount, self.item, ml)\n",
    "        else:\n",
    "            return ('{} cups {} is {} milliliters').format(amount, self.item, ml)\n",
    "    \n",
    "    def ml_to_cup(self, amount):\n",
    "        cup = round(amount*258.59, ndigits=2)\n",
    "        if cup == 1:\n",
    "            return ('{} milliliters {} is {} cup').format(amount, self.item, cup)\n",
    "        else:\n",
    "            return ('{} milliliters {} is {} cups').format(amount, self.item, cup)\n",
    "        \n",
    "    def ounce_to_cup(self, amount):\n",
    "        cup = round(amount/16, ndigits=2)\n",
    "        if cup == 1:\n",
    "            return ('{} teaspoons {} is {} cup').format(amount, self.item, cup)\n",
    "        else:\n",
    "            return ('{} teaspoons {} is {} cup').format(amount, self.item, cup)\n",
    "\n",
    "    def ml_to_tbsp(self, amount):\n",
    "        tbsp = round(amount*14.78, ndigits=2)\n",
    "        if tbsp == 1:\n",
    "            return ('{} milliliters {} is {} tablespoon').format(amount, self.item, tbsp)\n",
    "        else:\n",
    "            return ('{} milliliters {} is {} tablespoons').format(amount, self.item, tbsp)\n",
    "        \n",
    "    def tbsp_to_ml(self, amount):\n",
    "        ml = round(amount/14.78, ndigits=2)\n",
    "        if amount == 1:\n",
    "            return ('{} tablespoon {} is {} milliliters').format(amount, self.item, ml)\n",
    "        else:\n",
    "            return ('{} tablespoons {} is {} milliliters').format(amount, self.item, ml)\n",
    "        \n",
    "    def ounce_to_gram(self, amount):\n",
    "        gram = round(amount/28.35, ndigits=2)\n",
    "        if amount == 1:\n",
    "            return ('{} ounce {} is {} grams').format(amount, self.item, gram)\n",
    "        else:\n",
    "            return ('{} ounces {} is {} grams').format(amount, self.item, gram)\n",
    "        \n",
    "    def floz_to_ml(self, amount):\n",
    "        ml = round(amount/29.6, ndigits=2)\n",
    "        if amount == 1:\n",
    "            return ('{} fluid ounce {} is {} milliliters').format(amount, self.item, ml)\n",
    "        else:\n",
    "            return ('{} fluid ounces {} is {} milliliters').format(amount, self.item, ml)\n",
    "\n",
    "    def ml_to_floz(self, amount):\n",
    "        floz = round(amount*29.6, ndigits=2)\n",
    "        if floz == 1:\n",
    "            return ('{} milliliters {} is {} fluid ounce').format(amount, self.item, floz)\n",
    "        else:\n",
    "            return ('{} milliliters {} is {} fluid ounces').format(amount, self.item, floz)\n",
    "        \n",
    "    def ml_to_tsp(self, amount):\n",
    "        tsp = round((self.amount*14.78)*3, ndigits=2)\n",
    "        if tsp == 1:\n",
    "            return ('{} milliliters {} is {} tablespoon').format(amount, self.item, tsp)\n",
    "        else:\n",
    "            return ('{} milliliters {} is {} tablespoons').format(amount, self.item, tsp)\n",
    "    def ml_to_L(self, amount):\n",
    "        pass"
   ]
  }
 ],
 "metadata": {
  "kernelspec": {
   "display_name": "Python [conda env:root]",
   "language": "python",
   "name": "conda-root-py"
  },
  "language_info": {
   "codemirror_mode": {
    "name": "ipython",
    "version": 3
   },
   "file_extension": ".py",
   "mimetype": "text/x-python",
   "name": "python",
   "nbconvert_exporter": "python",
   "pygments_lexer": "ipython3",
   "version": "3.7.3"
  },
  "toc": {
   "base_numbering": 1,
   "nav_menu": {},
   "number_sections": true,
   "sideBar": true,
   "skip_h1_title": false,
   "title_cell": "Table of Contents",
   "title_sidebar": "Contents",
   "toc_cell": false,
   "toc_position": {},
   "toc_section_display": true,
   "toc_window_display": false
  },
  "varInspector": {
   "cols": {
    "lenName": 16,
    "lenType": 16,
    "lenVar": 40
   },
   "kernels_config": {
    "python": {
     "delete_cmd_postfix": "",
     "delete_cmd_prefix": "del ",
     "library": "var_list.py",
     "varRefreshCmd": "print(var_dic_list())"
    },
    "r": {
     "delete_cmd_postfix": ") ",
     "delete_cmd_prefix": "rm(",
     "library": "var_list.r",
     "varRefreshCmd": "cat(var_dic_list()) "
    }
   },
   "types_to_exclude": [
    "module",
    "function",
    "builtin_function_or_method",
    "instance",
    "_Feature"
   ],
   "window_display": false
  }
 },
 "nbformat": 4,
 "nbformat_minor": 2
}
